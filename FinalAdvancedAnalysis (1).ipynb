{
  "cells": [
    {
      "cell_type": "markdown",
      "source": [
        "#Import libraries"
      ],
      "metadata": {
        "id": "zFxZFRaqZ619"
      },
      "id": "zFxZFRaqZ619"
    },
    {
      "cell_type": "code",
      "execution_count": null,
      "id": "ad7b891a",
      "metadata": {
        "id": "ad7b891a"
      },
      "outputs": [],
      "source": [
        "import numpy as np        # To perform the Mathematical operation\n",
        "import pandas as pd # Data Manipulation tool\n",
        "from numpy import *\n",
        "from matplotlib import *\n",
        "\n",
        "# Data Visualisation tool\n",
        "import matplotlib.pyplot as plt       \n",
        "import seaborn as sns                 \n",
        "\n",
        "# To check accuracy\n",
        "from sklearn.metrics import confusion_matrix, accuracy_score, mean_squared_error, mean_absolute_error\n",
        "\n",
        "# For encoding and scaling \n",
        "from sklearn.preprocessing import LabelEncoder, OneHotEncoder, MinMaxScaler\n",
        "\n",
        "# train_test_split <- divide train and test set\n",
        "# GridSearchCV <- classifier hyper parameter tunning \n",
        "from sklearn.model_selection import train_test_split, GridSearchCV\n",
        "from sklearn.model_selection import RepeatedKFold\n",
        "\n",
        "# Regression methods \n",
        "from sklearn.ensemble import RandomForestRegressor, ExtraTreesRegressor\n",
        "from sklearn.tree import DecisionTreeRegressor\n",
        "from sklearn.linear_model import Ridge, Lasso, ElasticNet, RidgeCV, LassoCV, ElasticNetCV, LinearRegression\n",
        "from sklearn.model_selection import cross_val_predict\n",
        "from sklearn.model_selection import cross_val_score\n"
      ]
    },
    {
      "cell_type": "code",
      "source": [
        "import sklearn\n",
        "sklearn.__version__"
      ],
      "metadata": {
        "colab": {
          "base_uri": "https://localhost:8080/",
          "height": 36
        },
        "id": "XpBeVf-Of_3h",
        "outputId": "fe4bb5ac-e17b-4fcc-d513-645dad428fc0"
      },
      "id": "XpBeVf-Of_3h",
      "execution_count": null,
      "outputs": [
        {
          "output_type": "execute_result",
          "data": {
            "text/plain": [
              "'1.0.2'"
            ],
            "application/vnd.google.colaboratory.intrinsic+json": {
              "type": "string"
            }
          },
          "metadata": {},
          "execution_count": 3
        }
      ]
    },
    {
      "cell_type": "code",
      "source": [
        "!pip install scikit-learn==0.24.2"
      ],
      "metadata": {
        "colab": {
          "base_uri": "https://localhost:8080/",
          "height": 383
        },
        "id": "jYMglMNngF7R",
        "outputId": "05ef17d5-6fda-40d6-9eb7-347889022fc5"
      },
      "id": "jYMglMNngF7R",
      "execution_count": null,
      "outputs": [
        {
          "output_type": "stream",
          "name": "stdout",
          "text": [
            "Collecting scikit-learn==0.24.2\n",
            "  Downloading scikit_learn-0.24.2-cp37-cp37m-manylinux2010_x86_64.whl (22.3 MB)\n",
            "\u001b[K     |████████████████████████████████| 22.3 MB 1.4 MB/s \n",
            "\u001b[?25hRequirement already satisfied: threadpoolctl>=2.0.0 in /usr/local/lib/python3.7/dist-packages (from scikit-learn==0.24.2) (3.1.0)\n",
            "Requirement already satisfied: joblib>=0.11 in /usr/local/lib/python3.7/dist-packages (from scikit-learn==0.24.2) (1.1.0)\n",
            "Requirement already satisfied: scipy>=0.19.1 in /usr/local/lib/python3.7/dist-packages (from scikit-learn==0.24.2) (1.4.1)\n",
            "Requirement already satisfied: numpy>=1.13.3 in /usr/local/lib/python3.7/dist-packages (from scikit-learn==0.24.2) (1.21.5)\n",
            "Installing collected packages: scikit-learn\n",
            "  Attempting uninstall: scikit-learn\n",
            "    Found existing installation: scikit-learn 0.24.1\n",
            "    Uninstalling scikit-learn-0.24.1:\n",
            "      Successfully uninstalled scikit-learn-0.24.1\n",
            "\u001b[31mERROR: pip's dependency resolver does not currently take into account all the packages that are installed. This behaviour is the source of the following dependency conflicts.\n",
            "yellowbrick 1.4 requires scikit-learn>=1.0.0, but you have scikit-learn 0.24.2 which is incompatible.\u001b[0m\n",
            "Successfully installed scikit-learn-0.24.2\n"
          ]
        },
        {
          "output_type": "display_data",
          "data": {
            "application/vnd.colab-display-data+json": {
              "pip_warning": {
                "packages": [
                  "sklearn"
                ]
              }
            }
          },
          "metadata": {}
        }
      ]
    },
    {
      "cell_type": "code",
      "source": [
        "import sklearn\n",
        "sklearn.__version__"
      ],
      "metadata": {
        "colab": {
          "base_uri": "https://localhost:8080/",
          "height": 36
        },
        "id": "aedUeWnegLoy",
        "outputId": "9e4aacb9-c8f9-459d-f30e-7b979ac6e949"
      },
      "id": "aedUeWnegLoy",
      "execution_count": null,
      "outputs": [
        {
          "output_type": "execute_result",
          "data": {
            "text/plain": [
              "'0.24.2'"
            ],
            "application/vnd.google.colaboratory.intrinsic+json": {
              "type": "string"
            }
          },
          "metadata": {},
          "execution_count": 2
        }
      ]
    },
    {
      "cell_type": "markdown",
      "source": [
        "#Import dataset"
      ],
      "metadata": {
        "id": "QOSTIhZ7Z-AA"
      },
      "id": "QOSTIhZ7Z-AA"
    },
    {
      "cell_type": "code",
      "execution_count": null,
      "id": "bd108bb1",
      "metadata": {
        "id": "bd108bb1",
        "outputId": "c4da4e6a-8477-4e4e-b5f3-8ad24e8cd840",
        "colab": {
          "base_uri": "https://localhost:8080/",
          "height": 478
        }
      },
      "outputs": [
        {
          "output_type": "execute_result",
          "data": {
            "text/plain": [
              "   Unnamed: 0         id                                         track_name  \\\n",
              "0           1  281656475                                    PAC-MAN Premium   \n",
              "1           2  281796108                          Evernote - stay organized   \n",
              "2           3  281940292    WeatherBug - Local Weather, Radar, Maps, Alerts   \n",
              "3           4  282614216  eBay: Best App to Buy, Sell, Save! Online Shop...   \n",
              "4           5  282935706                                              Bible   \n",
              "\n",
              "   size_bytes currency  price  rating_count_tot  rating_count_ver  \\\n",
              "0   100788224      USD   3.99             21292                26   \n",
              "1   158578688      USD   0.00            161065                26   \n",
              "2   100524032      USD   0.00            188583              2822   \n",
              "3   128512000      USD   0.00            262241               649   \n",
              "4    92774400      USD   0.00            985920              5320   \n",
              "\n",
              "   user_rating  user_rating_ver     ver cont_rating   prime_genre  \\\n",
              "0          4.0              4.5   6.3.5          4+         Games   \n",
              "1          4.0              3.5   8.2.2          4+  Productivity   \n",
              "2          3.5              4.5   5.0.0          4+       Weather   \n",
              "3          4.0              4.5  5.10.0         12+      Shopping   \n",
              "4          4.5              5.0   7.5.1          4+     Reference   \n",
              "\n",
              "   sup_devices.num  ipadSc_urls.num  lang.num  vpp_lic  \n",
              "0               38                5        10        1  \n",
              "1               37                5        23        1  \n",
              "2               37                5         3        1  \n",
              "3               37                5         9        1  \n",
              "4               37                5        45        1  "
            ],
            "text/html": [
              "\n",
              "  <div id=\"df-b35bfb07-c608-4f5d-9eb7-bfab99c2e927\">\n",
              "    <div class=\"colab-df-container\">\n",
              "      <div>\n",
              "<style scoped>\n",
              "    .dataframe tbody tr th:only-of-type {\n",
              "        vertical-align: middle;\n",
              "    }\n",
              "\n",
              "    .dataframe tbody tr th {\n",
              "        vertical-align: top;\n",
              "    }\n",
              "\n",
              "    .dataframe thead th {\n",
              "        text-align: right;\n",
              "    }\n",
              "</style>\n",
              "<table border=\"1\" class=\"dataframe\">\n",
              "  <thead>\n",
              "    <tr style=\"text-align: right;\">\n",
              "      <th></th>\n",
              "      <th>Unnamed: 0</th>\n",
              "      <th>id</th>\n",
              "      <th>track_name</th>\n",
              "      <th>size_bytes</th>\n",
              "      <th>currency</th>\n",
              "      <th>price</th>\n",
              "      <th>rating_count_tot</th>\n",
              "      <th>rating_count_ver</th>\n",
              "      <th>user_rating</th>\n",
              "      <th>user_rating_ver</th>\n",
              "      <th>ver</th>\n",
              "      <th>cont_rating</th>\n",
              "      <th>prime_genre</th>\n",
              "      <th>sup_devices.num</th>\n",
              "      <th>ipadSc_urls.num</th>\n",
              "      <th>lang.num</th>\n",
              "      <th>vpp_lic</th>\n",
              "    </tr>\n",
              "  </thead>\n",
              "  <tbody>\n",
              "    <tr>\n",
              "      <th>0</th>\n",
              "      <td>1</td>\n",
              "      <td>281656475</td>\n",
              "      <td>PAC-MAN Premium</td>\n",
              "      <td>100788224</td>\n",
              "      <td>USD</td>\n",
              "      <td>3.99</td>\n",
              "      <td>21292</td>\n",
              "      <td>26</td>\n",
              "      <td>4.0</td>\n",
              "      <td>4.5</td>\n",
              "      <td>6.3.5</td>\n",
              "      <td>4+</td>\n",
              "      <td>Games</td>\n",
              "      <td>38</td>\n",
              "      <td>5</td>\n",
              "      <td>10</td>\n",
              "      <td>1</td>\n",
              "    </tr>\n",
              "    <tr>\n",
              "      <th>1</th>\n",
              "      <td>2</td>\n",
              "      <td>281796108</td>\n",
              "      <td>Evernote - stay organized</td>\n",
              "      <td>158578688</td>\n",
              "      <td>USD</td>\n",
              "      <td>0.00</td>\n",
              "      <td>161065</td>\n",
              "      <td>26</td>\n",
              "      <td>4.0</td>\n",
              "      <td>3.5</td>\n",
              "      <td>8.2.2</td>\n",
              "      <td>4+</td>\n",
              "      <td>Productivity</td>\n",
              "      <td>37</td>\n",
              "      <td>5</td>\n",
              "      <td>23</td>\n",
              "      <td>1</td>\n",
              "    </tr>\n",
              "    <tr>\n",
              "      <th>2</th>\n",
              "      <td>3</td>\n",
              "      <td>281940292</td>\n",
              "      <td>WeatherBug - Local Weather, Radar, Maps, Alerts</td>\n",
              "      <td>100524032</td>\n",
              "      <td>USD</td>\n",
              "      <td>0.00</td>\n",
              "      <td>188583</td>\n",
              "      <td>2822</td>\n",
              "      <td>3.5</td>\n",
              "      <td>4.5</td>\n",
              "      <td>5.0.0</td>\n",
              "      <td>4+</td>\n",
              "      <td>Weather</td>\n",
              "      <td>37</td>\n",
              "      <td>5</td>\n",
              "      <td>3</td>\n",
              "      <td>1</td>\n",
              "    </tr>\n",
              "    <tr>\n",
              "      <th>3</th>\n",
              "      <td>4</td>\n",
              "      <td>282614216</td>\n",
              "      <td>eBay: Best App to Buy, Sell, Save! Online Shop...</td>\n",
              "      <td>128512000</td>\n",
              "      <td>USD</td>\n",
              "      <td>0.00</td>\n",
              "      <td>262241</td>\n",
              "      <td>649</td>\n",
              "      <td>4.0</td>\n",
              "      <td>4.5</td>\n",
              "      <td>5.10.0</td>\n",
              "      <td>12+</td>\n",
              "      <td>Shopping</td>\n",
              "      <td>37</td>\n",
              "      <td>5</td>\n",
              "      <td>9</td>\n",
              "      <td>1</td>\n",
              "    </tr>\n",
              "    <tr>\n",
              "      <th>4</th>\n",
              "      <td>5</td>\n",
              "      <td>282935706</td>\n",
              "      <td>Bible</td>\n",
              "      <td>92774400</td>\n",
              "      <td>USD</td>\n",
              "      <td>0.00</td>\n",
              "      <td>985920</td>\n",
              "      <td>5320</td>\n",
              "      <td>4.5</td>\n",
              "      <td>5.0</td>\n",
              "      <td>7.5.1</td>\n",
              "      <td>4+</td>\n",
              "      <td>Reference</td>\n",
              "      <td>37</td>\n",
              "      <td>5</td>\n",
              "      <td>45</td>\n",
              "      <td>1</td>\n",
              "    </tr>\n",
              "  </tbody>\n",
              "</table>\n",
              "</div>\n",
              "      <button class=\"colab-df-convert\" onclick=\"convertToInteractive('df-b35bfb07-c608-4f5d-9eb7-bfab99c2e927')\"\n",
              "              title=\"Convert this dataframe to an interactive table.\"\n",
              "              style=\"display:none;\">\n",
              "        \n",
              "  <svg xmlns=\"http://www.w3.org/2000/svg\" height=\"24px\"viewBox=\"0 0 24 24\"\n",
              "       width=\"24px\">\n",
              "    <path d=\"M0 0h24v24H0V0z\" fill=\"none\"/>\n",
              "    <path d=\"M18.56 5.44l.94 2.06.94-2.06 2.06-.94-2.06-.94-.94-2.06-.94 2.06-2.06.94zm-11 1L8.5 8.5l.94-2.06 2.06-.94-2.06-.94L8.5 2.5l-.94 2.06-2.06.94zm10 10l.94 2.06.94-2.06 2.06-.94-2.06-.94-.94-2.06-.94 2.06-2.06.94z\"/><path d=\"M17.41 7.96l-1.37-1.37c-.4-.4-.92-.59-1.43-.59-.52 0-1.04.2-1.43.59L10.3 9.45l-7.72 7.72c-.78.78-.78 2.05 0 2.83L4 21.41c.39.39.9.59 1.41.59.51 0 1.02-.2 1.41-.59l7.78-7.78 2.81-2.81c.8-.78.8-2.07 0-2.86zM5.41 20L4 18.59l7.72-7.72 1.47 1.35L5.41 20z\"/>\n",
              "  </svg>\n",
              "      </button>\n",
              "      \n",
              "  <style>\n",
              "    .colab-df-container {\n",
              "      display:flex;\n",
              "      flex-wrap:wrap;\n",
              "      gap: 12px;\n",
              "    }\n",
              "\n",
              "    .colab-df-convert {\n",
              "      background-color: #E8F0FE;\n",
              "      border: none;\n",
              "      border-radius: 50%;\n",
              "      cursor: pointer;\n",
              "      display: none;\n",
              "      fill: #1967D2;\n",
              "      height: 32px;\n",
              "      padding: 0 0 0 0;\n",
              "      width: 32px;\n",
              "    }\n",
              "\n",
              "    .colab-df-convert:hover {\n",
              "      background-color: #E2EBFA;\n",
              "      box-shadow: 0px 1px 2px rgba(60, 64, 67, 0.3), 0px 1px 3px 1px rgba(60, 64, 67, 0.15);\n",
              "      fill: #174EA6;\n",
              "    }\n",
              "\n",
              "    [theme=dark] .colab-df-convert {\n",
              "      background-color: #3B4455;\n",
              "      fill: #D2E3FC;\n",
              "    }\n",
              "\n",
              "    [theme=dark] .colab-df-convert:hover {\n",
              "      background-color: #434B5C;\n",
              "      box-shadow: 0px 1px 3px 1px rgba(0, 0, 0, 0.15);\n",
              "      filter: drop-shadow(0px 1px 2px rgba(0, 0, 0, 0.3));\n",
              "      fill: #FFFFFF;\n",
              "    }\n",
              "  </style>\n",
              "\n",
              "      <script>\n",
              "        const buttonEl =\n",
              "          document.querySelector('#df-b35bfb07-c608-4f5d-9eb7-bfab99c2e927 button.colab-df-convert');\n",
              "        buttonEl.style.display =\n",
              "          google.colab.kernel.accessAllowed ? 'block' : 'none';\n",
              "\n",
              "        async function convertToInteractive(key) {\n",
              "          const element = document.querySelector('#df-b35bfb07-c608-4f5d-9eb7-bfab99c2e927');\n",
              "          const dataTable =\n",
              "            await google.colab.kernel.invokeFunction('convertToInteractive',\n",
              "                                                     [key], {});\n",
              "          if (!dataTable) return;\n",
              "\n",
              "          const docLinkHtml = 'Like what you see? Visit the ' +\n",
              "            '<a target=\"_blank\" href=https://colab.research.google.com/notebooks/data_table.ipynb>data table notebook</a>'\n",
              "            + ' to learn more about interactive tables.';\n",
              "          element.innerHTML = '';\n",
              "          dataTable['output_type'] = 'display_data';\n",
              "          await google.colab.output.renderOutput(dataTable, element);\n",
              "          const docLink = document.createElement('div');\n",
              "          docLink.innerHTML = docLinkHtml;\n",
              "          element.appendChild(docLink);\n",
              "        }\n",
              "      </script>\n",
              "    </div>\n",
              "  </div>\n",
              "  "
            ]
          },
          "metadata": {},
          "execution_count": 3
        }
      ],
      "source": [
        "df = pd.read_csv('AppleStore (1).csv')\n",
        "df.head()"
      ]
    },
    {
      "cell_type": "markdown",
      "source": [
        "#Data cleaning"
      ],
      "metadata": {
        "id": "4SbONmrZaBC9"
      },
      "id": "4SbONmrZaBC9"
    },
    {
      "cell_type": "markdown",
      "source": [
        "##ver"
      ],
      "metadata": {
        "id": "xgX--9OpaC3n"
      },
      "id": "xgX--9OpaC3n"
    },
    {
      "cell_type": "code",
      "execution_count": null,
      "id": "eb08bbb6",
      "metadata": {
        "id": "eb08bbb6",
        "outputId": "20290c92-49d1-40ee-9e60-168dce94c8cd",
        "colab": {
          "base_uri": "https://localhost:8080/"
        }
      },
      "outputs": [
        {
          "output_type": "execute_result",
          "data": {
            "text/plain": [
              "0        6.3.5\n",
              "1        8.2.2\n",
              "2        5.0.0\n",
              "3       5.10.0\n",
              "4        7.5.1\n",
              "         ...  \n",
              "7192       1.3\n",
              "7193       0.9\n",
              "7194     1.0.2\n",
              "7195    1.0.15\n",
              "7196         1\n",
              "Name: ver, Length: 7197, dtype: object"
            ]
          },
          "metadata": {},
          "execution_count": 4
        }
      ],
      "source": [
        "versions = df['ver']\n",
        "versions\n",
        "#versions.shape\n",
        "#str.split(versions[1],'.')"
      ]
    },
    {
      "cell_type": "code",
      "execution_count": null,
      "id": "b304ef61",
      "metadata": {
        "id": "b304ef61"
      },
      "outputs": [],
      "source": [
        "versions = df['ver']\n",
        "versions\n",
        "y = []\n",
        "a = []\n",
        "b = []\n",
        "c = []\n",
        "\n",
        "for x in range(0,7197):\n",
        "    y= str.split(versions[x],'.')\n",
        "    if len(y) <0:\n",
        "        a.append('0')\n",
        "    else:\n",
        "        a.append(y[0])\n",
        "for x in range(0,7197):\n",
        "    y= str.split(versions[x],'.')\n",
        "    if len(y) <2:\n",
        "        b.append('0')\n",
        "    else:\n",
        "        b.append(y[1])\n",
        "for x in range(0,7197):\n",
        "    y= str.split(versions[x],'.')\n",
        "    if len(y) <3:\n",
        "        c.append('0')\n",
        "    else:\n",
        "        c.append(y[2])"
      ]
    },
    {
      "cell_type": "code",
      "execution_count": null,
      "id": "2e841b8a",
      "metadata": {
        "id": "2e841b8a"
      },
      "outputs": [],
      "source": [
        "val1 = np.array(a)\n",
        "val2 = np.array(b)\n",
        "val3 = np.array(c)"
      ]
    },
    {
      "cell_type": "code",
      "execution_count": null,
      "id": "7505ea80",
      "metadata": {
        "id": "7505ea80"
      },
      "outputs": [],
      "source": [
        "df.insert(loc=14,column='Major', value=val1)\n",
        "df.insert(loc=15, column='Minor', value=val2)\n",
        "df.insert(loc=16, column='Patch', value=val3)"
      ]
    },
    {
      "cell_type": "code",
      "execution_count": null,
      "id": "8db6beea",
      "metadata": {
        "id": "8db6beea"
      },
      "outputs": [],
      "source": [
        "df['Major'] = pd.to_numeric(df['Major'])\n",
        "df['Minor'] = pd.to_numeric(df['Minor'])\n",
        "df['Patch'] = pd.to_numeric(df['Patch'])"
      ]
    },
    {
      "cell_type": "code",
      "execution_count": null,
      "id": "687a2e48",
      "metadata": {
        "id": "687a2e48",
        "outputId": "633c694d-feac-485e-c0b6-8dd0cf3d540c",
        "colab": {
          "base_uri": "https://localhost:8080/"
        }
      },
      "outputs": [
        {
          "output_type": "stream",
          "name": "stdout",
          "text": [
            "<class 'pandas.core.frame.DataFrame'>\n",
            "RangeIndex: 7197 entries, 0 to 7196\n",
            "Data columns (total 20 columns):\n",
            " #   Column            Non-Null Count  Dtype  \n",
            "---  ------            --------------  -----  \n",
            " 0   Unnamed: 0        7197 non-null   int64  \n",
            " 1   id                7197 non-null   int64  \n",
            " 2   track_name        7197 non-null   object \n",
            " 3   size_bytes        7197 non-null   int64  \n",
            " 4   currency          7197 non-null   object \n",
            " 5   price             7197 non-null   float64\n",
            " 6   rating_count_tot  7197 non-null   int64  \n",
            " 7   rating_count_ver  7197 non-null   int64  \n",
            " 8   user_rating       7197 non-null   float64\n",
            " 9   user_rating_ver   7197 non-null   float64\n",
            " 10  ver               7197 non-null   object \n",
            " 11  cont_rating       7197 non-null   object \n",
            " 12  prime_genre       7197 non-null   object \n",
            " 13  sup_devices.num   7197 non-null   int64  \n",
            " 14  Major             7197 non-null   int64  \n",
            " 15  Minor             7197 non-null   int64  \n",
            " 16  Patch             7196 non-null   float64\n",
            " 17  ipadSc_urls.num   7197 non-null   int64  \n",
            " 18  lang.num          7197 non-null   int64  \n",
            " 19  vpp_lic           7197 non-null   int64  \n",
            "dtypes: float64(4), int64(11), object(5)\n",
            "memory usage: 1.1+ MB\n"
          ]
        }
      ],
      "source": [
        "df.info()"
      ]
    },
    {
      "cell_type": "markdown",
      "source": [
        "##cont_rating"
      ],
      "metadata": {
        "id": "OdypLTP7aHbM"
      },
      "id": "OdypLTP7aHbM"
    },
    {
      "cell_type": "code",
      "execution_count": null,
      "id": "91dda86a",
      "metadata": {
        "id": "91dda86a",
        "outputId": "b40debec-de15-4baf-b70e-5dce1c54c1b9",
        "colab": {
          "base_uri": "https://localhost:8080/"
        }
      },
      "outputs": [
        {
          "output_type": "execute_result",
          "data": {
            "text/plain": [
              "4+     4433\n",
              "12+    1155\n",
              "9+      987\n",
              "17+     622\n",
              "Name: cont_rating, dtype: int64"
            ]
          },
          "metadata": {},
          "execution_count": 10
        }
      ],
      "source": [
        "df.cont_rating.value_counts()"
      ]
    },
    {
      "cell_type": "code",
      "execution_count": null,
      "id": "0dd647e8",
      "metadata": {
        "id": "0dd647e8"
      },
      "outputs": [],
      "source": [
        "ohe = OneHotEncoder(sparse=False)\n",
        "new_cont_rating = ohe.fit_transform(df[['cont_rating']])"
      ]
    },
    {
      "cell_type": "code",
      "execution_count": null,
      "id": "e88fe36c",
      "metadata": {
        "id": "e88fe36c"
      },
      "outputs": [],
      "source": [
        "df[['12+', '17+', '4+', '9+']] = new_cont_rating"
      ]
    },
    {
      "cell_type": "code",
      "execution_count": null,
      "id": "84192c3d",
      "metadata": {
        "id": "84192c3d"
      },
      "outputs": [],
      "source": [
        "df.drop(['cont_rating','ver','track_name'], axis=1, inplace=True)"
      ]
    },
    {
      "cell_type": "code",
      "execution_count": null,
      "id": "92e23d05",
      "metadata": {
        "id": "92e23d05",
        "outputId": "bb83c5a7-6ebb-4895-b26e-51b74f81d20a",
        "colab": {
          "base_uri": "https://localhost:8080/"
        }
      },
      "outputs": [
        {
          "output_type": "stream",
          "name": "stdout",
          "text": [
            "<class 'pandas.core.frame.DataFrame'>\n",
            "RangeIndex: 7197 entries, 0 to 7196\n",
            "Data columns (total 21 columns):\n",
            " #   Column            Non-Null Count  Dtype  \n",
            "---  ------            --------------  -----  \n",
            " 0   Unnamed: 0        7197 non-null   int64  \n",
            " 1   id                7197 non-null   int64  \n",
            " 2   size_bytes        7197 non-null   int64  \n",
            " 3   currency          7197 non-null   object \n",
            " 4   price             7197 non-null   float64\n",
            " 5   rating_count_tot  7197 non-null   int64  \n",
            " 6   rating_count_ver  7197 non-null   int64  \n",
            " 7   user_rating       7197 non-null   float64\n",
            " 8   user_rating_ver   7197 non-null   float64\n",
            " 9   prime_genre       7197 non-null   object \n",
            " 10  sup_devices.num   7197 non-null   int64  \n",
            " 11  Major             7197 non-null   int64  \n",
            " 12  Minor             7197 non-null   int64  \n",
            " 13  Patch             7196 non-null   float64\n",
            " 14  ipadSc_urls.num   7197 non-null   int64  \n",
            " 15  lang.num          7197 non-null   int64  \n",
            " 16  vpp_lic           7197 non-null   int64  \n",
            " 17  12+               7197 non-null   float64\n",
            " 18  17+               7197 non-null   float64\n",
            " 19  4+                7197 non-null   float64\n",
            " 20  9+                7197 non-null   float64\n",
            "dtypes: float64(8), int64(11), object(2)\n",
            "memory usage: 1.2+ MB\n"
          ]
        }
      ],
      "source": [
        "df.info()"
      ]
    },
    {
      "cell_type": "code",
      "execution_count": null,
      "id": "035c184d",
      "metadata": {
        "id": "035c184d"
      },
      "outputs": [],
      "source": [
        "df.drop(['Unnamed: 0','id','currency'],axis = 1,inplace = True)"
      ]
    },
    {
      "cell_type": "markdown",
      "id": "772d61e5",
      "metadata": {
        "id": "772d61e5"
      },
      "source": [
        "##prime genre"
      ]
    },
    {
      "cell_type": "code",
      "execution_count": null,
      "id": "2042bf3d",
      "metadata": {
        "id": "2042bf3d",
        "outputId": "39c01984-f2d0-45bc-9a01-ed8541578b05",
        "colab": {
          "base_uri": "https://localhost:8080/"
        }
      },
      "outputs": [
        {
          "output_type": "execute_result",
          "data": {
            "text/plain": [
              "Games                3862\n",
              "Entertainment         535\n",
              "Education             453\n",
              "Photo & Video         349\n",
              "Utilities             248\n",
              "Health & Fitness      180\n",
              "Productivity          178\n",
              "Social Networking     167\n",
              "Lifestyle             144\n",
              "Music                 138\n",
              "Shopping              122\n",
              "Sports                114\n",
              "Book                  112\n",
              "Finance               104\n",
              "Travel                 81\n",
              "News                   75\n",
              "Weather                72\n",
              "Reference              64\n",
              "Food & Drink           63\n",
              "Business               57\n",
              "Navigation             46\n",
              "Medical                23\n",
              "Catalogs               10\n",
              "Name: prime_genre, dtype: int64"
            ]
          },
          "metadata": {},
          "execution_count": 16
        }
      ],
      "source": [
        "df.prime_genre.value_counts()"
      ]
    },
    {
      "cell_type": "markdown",
      "source": [
        "**reducing the categories**"
      ],
      "metadata": {
        "id": "Do2ENGFyaMUc"
      },
      "id": "Do2ENGFyaMUc"
    },
    {
      "cell_type": "code",
      "execution_count": null,
      "id": "95d94b62",
      "metadata": {
        "id": "95d94b62"
      },
      "outputs": [],
      "source": [
        "df.prime_genre.replace(['Lifestyle','Sports', 'Finance', 'Book', 'Travel', 'News', 'Weather', 'Food & Drink', 'Reference', 'Business', 'Navigation', 'Medical', 'Catalogs'], \n",
        "                           ['Others','Others','Others','Others','Others','Others','Others','Others','Others','Others','Others','Others','Others'], inplace=True)"
      ]
    },
    {
      "cell_type": "code",
      "execution_count": null,
      "id": "75deee10",
      "metadata": {
        "id": "75deee10"
      },
      "outputs": [],
      "source": [
        "df.prime_genre.replace(['Photo & Video', 'Utilities', 'Health & Fitness', 'Health & Fitness', 'Productivity', 'Social Networking', 'Music'], \n",
        "                           ['Others','Others','Others','Others','Others','Others','Others'], inplace=True)"
      ]
    },
    {
      "cell_type": "code",
      "execution_count": null,
      "id": "c34f6ae8",
      "metadata": {
        "id": "c34f6ae8"
      },
      "outputs": [],
      "source": [
        "df.prime_genre.value_counts()\n",
        "new_prime_genre = ohe.fit_transform(df[['prime_genre']])\n",
        "df[['Education','Entertainment', 'Games', 'Others','Shopping']] = new_prime_genre"
      ]
    },
    {
      "cell_type": "code",
      "execution_count": null,
      "id": "2e2d0aab",
      "metadata": {
        "id": "2e2d0aab"
      },
      "outputs": [],
      "source": [
        "df['size_bytes']= df['size_bytes']/1024**2"
      ]
    },
    {
      "cell_type": "code",
      "execution_count": null,
      "id": "158dcc30",
      "metadata": {
        "id": "158dcc30"
      },
      "outputs": [],
      "source": [
        "#drop prime genre column\n",
        "df=df.drop('prime_genre',axis=1)"
      ]
    },
    {
      "cell_type": "markdown",
      "id": "102ee0d3",
      "metadata": {
        "id": "102ee0d3"
      },
      "source": [
        "#Train test split"
      ]
    },
    {
      "cell_type": "code",
      "execution_count": null,
      "id": "e572c1e4",
      "metadata": {
        "id": "e572c1e4"
      },
      "outputs": [],
      "source": [
        "x = df.drop('user_rating', axis=1)"
      ]
    },
    {
      "cell_type": "code",
      "execution_count": null,
      "id": "c8faee6e",
      "metadata": {
        "id": "c8faee6e"
      },
      "outputs": [],
      "source": [
        "y = df['user_rating']"
      ]
    },
    {
      "cell_type": "code",
      "execution_count": null,
      "id": "458c2755",
      "metadata": {
        "id": "458c2755"
      },
      "outputs": [],
      "source": [
        "x_train, x_test, y_train, y_test = train_test_split(x, y, test_size = 0.2, random_state=42)"
      ]
    },
    {
      "cell_type": "code",
      "execution_count": null,
      "id": "b8afc866",
      "metadata": {
        "id": "b8afc866"
      },
      "outputs": [],
      "source": [
        "train = pd.concat([x_train, y_train], axis=1)"
      ]
    },
    {
      "cell_type": "code",
      "execution_count": null,
      "id": "c9be8120",
      "metadata": {
        "id": "c9be8120"
      },
      "outputs": [],
      "source": [
        "X = train.drop('user_rating', axis=1)\n",
        "Y = train['user_rating']"
      ]
    },
    {
      "cell_type": "code",
      "execution_count": null,
      "id": "e76cae90",
      "metadata": {
        "id": "e76cae90",
        "outputId": "09400d69-fef6-49d5-83e1-4d8b0aa430a2",
        "colab": {
          "base_uri": "https://localhost:8080/"
        }
      },
      "outputs": [
        {
          "output_type": "execute_result",
          "data": {
            "text/plain": [
              "('size_bytes',\n",
              " 'price',\n",
              " 'rating_count_tot',\n",
              " 'rating_count_ver',\n",
              " 'user_rating_ver',\n",
              " 'sup_devices.num',\n",
              " 'Major',\n",
              " 'Minor',\n",
              " 'Patch',\n",
              " 'ipadSc_urls.num',\n",
              " 'lang.num',\n",
              " 'vpp_lic',\n",
              " '12+',\n",
              " '17+',\n",
              " '4+',\n",
              " '9+',\n",
              " 'Education',\n",
              " 'Entertainment',\n",
              " 'Games',\n",
              " 'Others',\n",
              " 'Shopping')"
            ]
          },
          "metadata": {},
          "execution_count": 32
        }
      ],
      "source": [
        "feature_names = tuple(X.columns)\n",
        "feature_names"
      ]
    },
    {
      "cell_type": "code",
      "execution_count": null,
      "id": "a3c0d081",
      "metadata": {
        "id": "a3c0d081",
        "outputId": "22cfd929-1e57-4b31-9027-e7e80f2c65a7",
        "colab": {
          "base_uri": "https://localhost:8080/"
        }
      },
      "outputs": [
        {
          "output_type": "execute_result",
          "data": {
            "text/plain": [
              "size_bytes          1.166789e+05\n",
              "price               3.824134e+01\n",
              "rating_count_tot    6.519579e+09\n",
              "rating_count_ver    1.597404e+07\n",
              "user_rating_ver     3.261050e+00\n",
              "sup_devices.num     1.417856e+01\n",
              "Major               9.486034e+04\n",
              "Minor               9.197676e+07\n",
              "Patch               7.178693e+14\n",
              "ipadSc_urls.num     3.968281e+00\n",
              "lang.num            6.492705e+01\n",
              "vpp_lic             7.072274e-03\n",
              "12+                 1.329871e-01\n",
              "17+                 7.716140e-02\n",
              "4+                  2.361509e-01\n",
              "9+                  1.204234e-01\n",
              "Education           5.848040e-02\n",
              "Entertainment       6.971547e-02\n",
              "Games               2.486027e-01\n",
              "Others              2.128952e-01\n",
              "Shopping            1.673589e-02\n",
              "dtype: float64"
            ]
          },
          "metadata": {},
          "execution_count": 27
        }
      ],
      "source": [
        "X.var()"
      ]
    },
    {
      "cell_type": "markdown",
      "source": [
        "#Feature selection"
      ],
      "metadata": {
        "id": "G66wPeSHaeq9"
      },
      "id": "G66wPeSHaeq9"
    },
    {
      "cell_type": "markdown",
      "id": "cb8a9c35",
      "metadata": {
        "id": "cb8a9c35"
      },
      "source": [
        "**variablity of vpp_lic is 10**-3, therefore we'll drop that**"
      ]
    },
    {
      "cell_type": "code",
      "execution_count": null,
      "id": "9682aefe",
      "metadata": {
        "scrolled": true,
        "id": "9682aefe",
        "outputId": "59440614-e4a9-43f8-c7a4-58ea7c8b00bd",
        "colab": {
          "base_uri": "https://localhost:8080/"
        }
      },
      "outputs": [
        {
          "output_type": "execute_result",
          "data": {
            "text/plain": [
              "('size_bytes',\n",
              " 'price',\n",
              " 'rating_count_tot',\n",
              " 'rating_count_ver',\n",
              " 'user_rating_ver',\n",
              " 'sup_devices.num',\n",
              " 'Major',\n",
              " 'Minor',\n",
              " 'ipadSc_urls.num',\n",
              " 'lang.num',\n",
              " '12+',\n",
              " '17+',\n",
              " '4+',\n",
              " '9+',\n",
              " 'Education',\n",
              " 'Entertainment',\n",
              " 'Games',\n",
              " 'Others',\n",
              " 'Shopping')"
            ]
          },
          "metadata": {},
          "execution_count": 27
        }
      ],
      "source": [
        "X = X.drop('vpp_lic', axis=1)\n",
        "X = X.drop('Patch',axis=1)\n",
        "feature_names = tuple(X.columns)\n",
        "feature_names"
      ]
    },
    {
      "cell_type": "code",
      "execution_count": null,
      "id": "b725bdc5",
      "metadata": {
        "id": "b725bdc5",
        "colab": {
          "base_uri": "https://localhost:8080/",
          "height": 520
        },
        "outputId": "f6688007-f5a5-4c0f-a7a6-5f1a8560b45d"
      },
      "outputs": [
        {
          "output_type": "error",
          "ename": "ModuleNotFoundError",
          "evalue": "ignored",
          "traceback": [
            "\u001b[0;31m---------------------------------------------------------------------------\u001b[0m",
            "\u001b[0;31mModuleNotFoundError\u001b[0m                       Traceback (most recent call last)",
            "\u001b[0;32m<ipython-input-30-f78f6c80db41>\u001b[0m in \u001b[0;36m<module>\u001b[0;34m()\u001b[0m\n\u001b[0;32m----> 1\u001b[0;31m \u001b[0;32mfrom\u001b[0m \u001b[0mmlxtend\u001b[0m\u001b[0;34m.\u001b[0m\u001b[0mfeature_selection\u001b[0m \u001b[0;32mimport\u001b[0m \u001b[0mSequentialFeatureSelector\u001b[0m \u001b[0;32mas\u001b[0m \u001b[0mSFS\u001b[0m\u001b[0;34m\u001b[0m\u001b[0;34m\u001b[0m\u001b[0m\n\u001b[0m\u001b[1;32m      2\u001b[0m sbs = SFS(#knn(n_neighbors=3),\n\u001b[1;32m      3\u001b[0m            \u001b[0;31m#rfc(n_jobs=8),\u001b[0m\u001b[0;34m\u001b[0m\u001b[0;34m\u001b[0m\u001b[0;34m\u001b[0m\u001b[0m\n\u001b[1;32m      4\u001b[0m            \u001b[0mLinearRegression\u001b[0m\u001b[0;34m(\u001b[0m\u001b[0mn_jobs\u001b[0m\u001b[0;34m=\u001b[0m\u001b[0;36m8\u001b[0m\u001b[0;34m)\u001b[0m\u001b[0;34m,\u001b[0m\u001b[0;34m\u001b[0m\u001b[0;34m\u001b[0m\u001b[0m\n\u001b[1;32m      5\u001b[0m            \u001b[0mk_features\u001b[0m\u001b[0;34m=\u001b[0m\u001b[0;34m'best'\u001b[0m\u001b[0;34m,\u001b[0m\u001b[0;34m\u001b[0m\u001b[0;34m\u001b[0m\u001b[0m\n",
            "\u001b[0;32m/usr/local/lib/python3.7/dist-packages/mlxtend/feature_selection/__init__.py\u001b[0m in \u001b[0;36m<module>\u001b[0;34m()\u001b[0m\n\u001b[1;32m      6\u001b[0m \u001b[0;34m\u001b[0m\u001b[0m\n\u001b[1;32m      7\u001b[0m \u001b[0;32mfrom\u001b[0m \u001b[0;34m.\u001b[0m\u001b[0mcolumn_selector\u001b[0m \u001b[0;32mimport\u001b[0m \u001b[0mColumnSelector\u001b[0m\u001b[0;34m\u001b[0m\u001b[0;34m\u001b[0m\u001b[0m\n\u001b[0;32m----> 8\u001b[0;31m \u001b[0;32mfrom\u001b[0m \u001b[0;34m.\u001b[0m\u001b[0msequential_feature_selector\u001b[0m \u001b[0;32mimport\u001b[0m \u001b[0mSequentialFeatureSelector\u001b[0m\u001b[0;34m\u001b[0m\u001b[0;34m\u001b[0m\u001b[0m\n\u001b[0m\u001b[1;32m      9\u001b[0m \u001b[0;32mfrom\u001b[0m \u001b[0;34m.\u001b[0m\u001b[0mexhaustive_feature_selector\u001b[0m \u001b[0;32mimport\u001b[0m \u001b[0mExhaustiveFeatureSelector\u001b[0m\u001b[0;34m\u001b[0m\u001b[0;34m\u001b[0m\u001b[0m\n\u001b[1;32m     10\u001b[0m \u001b[0;34m\u001b[0m\u001b[0m\n",
            "\u001b[0;32m/usr/local/lib/python3.7/dist-packages/mlxtend/feature_selection/sequential_feature_selector.py\u001b[0m in \u001b[0;36m<module>\u001b[0;34m()\u001b[0m\n\u001b[1;32m     21\u001b[0m \u001b[0;32mfrom\u001b[0m \u001b[0;34m.\u001b[0m\u001b[0;34m.\u001b[0m\u001b[0mexternals\u001b[0m\u001b[0;34m.\u001b[0m\u001b[0mname_estimators\u001b[0m \u001b[0;32mimport\u001b[0m \u001b[0m_name_estimators\u001b[0m\u001b[0;34m\u001b[0m\u001b[0;34m\u001b[0m\u001b[0m\n\u001b[1;32m     22\u001b[0m \u001b[0;32mfrom\u001b[0m \u001b[0msklearn\u001b[0m\u001b[0;34m.\u001b[0m\u001b[0mmodel_selection\u001b[0m \u001b[0;32mimport\u001b[0m \u001b[0mcross_val_score\u001b[0m\u001b[0;34m\u001b[0m\u001b[0;34m\u001b[0m\u001b[0m\n\u001b[0;32m---> 23\u001b[0;31m \u001b[0;32mfrom\u001b[0m \u001b[0msklearn\u001b[0m\u001b[0;34m.\u001b[0m\u001b[0mexternals\u001b[0m\u001b[0;34m.\u001b[0m\u001b[0mjoblib\u001b[0m \u001b[0;32mimport\u001b[0m \u001b[0mParallel\u001b[0m\u001b[0;34m,\u001b[0m \u001b[0mdelayed\u001b[0m\u001b[0;34m\u001b[0m\u001b[0;34m\u001b[0m\u001b[0m\n\u001b[0m\u001b[1;32m     24\u001b[0m \u001b[0;34m\u001b[0m\u001b[0m\n\u001b[1;32m     25\u001b[0m \u001b[0;34m\u001b[0m\u001b[0m\n",
            "\u001b[0;31mModuleNotFoundError\u001b[0m: No module named 'sklearn.externals.joblib'",
            "",
            "\u001b[0;31m---------------------------------------------------------------------------\u001b[0;32m\nNOTE: If your import is failing due to a missing package, you can\nmanually install dependencies using either !pip or !apt.\n\nTo view examples of installing some common dependencies, click the\n\"Open Examples\" button below.\n\u001b[0;31m---------------------------------------------------------------------------\u001b[0m\n"
          ],
          "errorDetails": {
            "actions": [
              {
                "action": "open_url",
                "actionText": "Open Examples",
                "url": "/notebooks/snippets/importing_libraries.ipynb"
              }
            ]
          }
        }
      ],
      "source": [
        "from mlxtend.feature_selection import SequentialFeatureSelector as SFS\n",
        "sbs = SFS(#knn(n_neighbors=3),\n",
        "           #rfc(n_jobs=8),\n",
        "           LinearRegression(n_jobs=8),\n",
        "           k_features='best', \n",
        "           forward=False, \n",
        "           floating=False, \n",
        "           verbose=2,\n",
        "           scoring = 'neg_mean_squared_error'  # sklearn regressors\n",
        "           #scoring='accuracy',  # sklearn classifiers\n",
        "           )"
      ]
    },
    {
      "cell_type": "code",
      "execution_count": null,
      "id": "6450868b",
      "metadata": {
        "id": "6450868b",
        "outputId": "48241072-ea85-479e-dc76-3de67f7a4bcf"
      },
      "outputs": [
        {
          "name": "stderr",
          "output_type": "stream",
          "text": [
            "[Parallel(n_jobs=1)]: Using backend SequentialBackend with 1 concurrent workers.\n",
            "[Parallel(n_jobs=1)]: Done   1 out of   1 | elapsed:    0.0s remaining:    0.0s\n",
            "[Parallel(n_jobs=1)]: Done  19 out of  19 | elapsed:    0.5s finished\n",
            "\n",
            "[2022-03-09 23:17:18] Features: 18/1 -- score: -0.9027397979326242[Parallel(n_jobs=1)]: Using backend SequentialBackend with 1 concurrent workers.\n",
            "[Parallel(n_jobs=1)]: Done   1 out of   1 | elapsed:    0.0s remaining:    0.0s\n",
            "[Parallel(n_jobs=1)]: Done  18 out of  18 | elapsed:    0.5s finished\n",
            "\n",
            "[2022-03-09 23:17:19] Features: 17/1 -- score: -0.9027397979326233[Parallel(n_jobs=1)]: Using backend SequentialBackend with 1 concurrent workers.\n",
            "[Parallel(n_jobs=1)]: Done   1 out of   1 | elapsed:    0.0s remaining:    0.0s\n",
            "[Parallel(n_jobs=1)]: Done  17 out of  17 | elapsed:    0.4s finished\n",
            "\n",
            "[2022-03-09 23:17:19] Features: 16/1 -- score: -0.9022394141450818[Parallel(n_jobs=1)]: Using backend SequentialBackend with 1 concurrent workers.\n",
            "[Parallel(n_jobs=1)]: Done   1 out of   1 | elapsed:    0.0s remaining:    0.0s\n",
            "[Parallel(n_jobs=1)]: Done  16 out of  16 | elapsed:    0.3s finished\n",
            "\n",
            "[2022-03-09 23:17:20] Features: 15/1 -- score: -0.9014167572632321[Parallel(n_jobs=1)]: Using backend SequentialBackend with 1 concurrent workers.\n",
            "[Parallel(n_jobs=1)]: Done   1 out of   1 | elapsed:    0.0s remaining:    0.0s\n",
            "[Parallel(n_jobs=1)]: Done  15 out of  15 | elapsed:    0.3s finished\n",
            "\n",
            "[2022-03-09 23:17:20] Features: 14/1 -- score: -0.9012087613620908[Parallel(n_jobs=1)]: Using backend SequentialBackend with 1 concurrent workers.\n",
            "[Parallel(n_jobs=1)]: Done   1 out of   1 | elapsed:    0.0s remaining:    0.0s\n",
            "[Parallel(n_jobs=1)]: Done  14 out of  14 | elapsed:    0.4s finished\n",
            "\n",
            "[2022-03-09 23:17:20] Features: 13/1 -- score: -0.9012087613620903[Parallel(n_jobs=1)]: Using backend SequentialBackend with 1 concurrent workers.\n",
            "[Parallel(n_jobs=1)]: Done   1 out of   1 | elapsed:    0.0s remaining:    0.0s\n",
            "[Parallel(n_jobs=1)]: Done  13 out of  13 | elapsed:    0.2s finished\n",
            "\n",
            "[2022-03-09 23:17:21] Features: 12/1 -- score: -0.9012493188556583[Parallel(n_jobs=1)]: Using backend SequentialBackend with 1 concurrent workers.\n",
            "[Parallel(n_jobs=1)]: Done   1 out of   1 | elapsed:    0.0s remaining:    0.0s\n",
            "[Parallel(n_jobs=1)]: Done  12 out of  12 | elapsed:    0.1s finished\n",
            "\n",
            "[2022-03-09 23:17:21] Features: 11/1 -- score: -0.9013745236844702[Parallel(n_jobs=1)]: Using backend SequentialBackend with 1 concurrent workers.\n",
            "[Parallel(n_jobs=1)]: Done   1 out of   1 | elapsed:    0.0s remaining:    0.0s\n",
            "[Parallel(n_jobs=1)]: Done  11 out of  11 | elapsed:    0.2s finished\n",
            "\n",
            "[2022-03-09 23:17:21] Features: 10/1 -- score: -0.9014988693072292[Parallel(n_jobs=1)]: Using backend SequentialBackend with 1 concurrent workers.\n",
            "[Parallel(n_jobs=1)]: Done   1 out of   1 | elapsed:    0.0s remaining:    0.0s\n",
            "[Parallel(n_jobs=1)]: Done  10 out of  10 | elapsed:    0.2s finished\n",
            "\n",
            "[2022-03-09 23:17:22] Features: 9/1 -- score: -0.9016990221720933[Parallel(n_jobs=1)]: Using backend SequentialBackend with 1 concurrent workers.\n",
            "[Parallel(n_jobs=1)]: Done   1 out of   1 | elapsed:    0.0s remaining:    0.0s\n",
            "[Parallel(n_jobs=1)]: Done   9 out of   9 | elapsed:    0.0s finished\n",
            "\n",
            "[2022-03-09 23:17:22] Features: 8/1 -- score: -0.902212443146811[Parallel(n_jobs=1)]: Using backend SequentialBackend with 1 concurrent workers.\n",
            "[Parallel(n_jobs=1)]: Done   1 out of   1 | elapsed:    0.0s remaining:    0.0s\n",
            "[Parallel(n_jobs=1)]: Done   8 out of   8 | elapsed:    0.0s finished\n",
            "\n",
            "[2022-03-09 23:17:22] Features: 7/1 -- score: -0.90294748009598[Parallel(n_jobs=1)]: Using backend SequentialBackend with 1 concurrent workers.\n",
            "[Parallel(n_jobs=1)]: Done   1 out of   1 | elapsed:    0.0s remaining:    0.0s\n",
            "[Parallel(n_jobs=1)]: Done   7 out of   7 | elapsed:    0.0s finished\n",
            "\n",
            "[2022-03-09 23:17:22] Features: 6/1 -- score: -0.904158762203809[Parallel(n_jobs=1)]: Using backend SequentialBackend with 1 concurrent workers.\n",
            "[Parallel(n_jobs=1)]: Done   1 out of   1 | elapsed:    0.0s remaining:    0.0s\n",
            "[Parallel(n_jobs=1)]: Done   6 out of   6 | elapsed:    0.1s finished\n",
            "\n",
            "[2022-03-09 23:17:22] Features: 5/1 -- score: -0.9044549749268842[Parallel(n_jobs=1)]: Using backend SequentialBackend with 1 concurrent workers.\n",
            "[Parallel(n_jobs=1)]: Done   1 out of   1 | elapsed:    0.0s remaining:    0.0s\n",
            "[Parallel(n_jobs=1)]: Done   5 out of   5 | elapsed:    0.0s finished\n",
            "\n",
            "[2022-03-09 23:17:22] Features: 4/1 -- score: -0.9053432144875206[Parallel(n_jobs=1)]: Using backend SequentialBackend with 1 concurrent workers.\n",
            "[Parallel(n_jobs=1)]: Done   1 out of   1 | elapsed:    0.0s remaining:    0.0s\n",
            "[Parallel(n_jobs=1)]: Done   4 out of   4 | elapsed:    0.0s finished\n",
            "\n",
            "[2022-03-09 23:17:22] Features: 3/1 -- score: -0.9074092316384601[Parallel(n_jobs=1)]: Using backend SequentialBackend with 1 concurrent workers.\n",
            "[Parallel(n_jobs=1)]: Done   1 out of   1 | elapsed:    0.0s remaining:    0.0s\n",
            "[Parallel(n_jobs=1)]: Done   3 out of   3 | elapsed:    0.0s finished\n",
            "\n",
            "[2022-03-09 23:17:22] Features: 2/1 -- score: -0.9122071162953663[Parallel(n_jobs=1)]: Using backend SequentialBackend with 1 concurrent workers.\n",
            "[Parallel(n_jobs=1)]: Done   1 out of   1 | elapsed:    0.0s remaining:    0.0s\n",
            "[Parallel(n_jobs=1)]: Done   2 out of   2 | elapsed:    0.0s finished\n",
            "\n",
            "[2022-03-09 23:17:22] Features: 1/1 -- score: -0.9200780255492915"
          ]
        }
      ],
      "source": [
        "sbs = sbs.fit(X, Y,custom_feature_names=feature_names)"
      ]
    },
    {
      "cell_type": "code",
      "execution_count": null,
      "id": "ea4a79bf",
      "metadata": {
        "id": "ea4a79bf",
        "outputId": "64117dcb-f85e-49c9-e363-1f28d1787bbf"
      },
      "outputs": [
        {
          "data": {
            "text/plain": [
              "(('size_bytes',\n",
              "  'price',\n",
              "  'rating_count_tot',\n",
              "  'rating_count_ver',\n",
              "  'user_rating_ver',\n",
              "  'sup_devices.num',\n",
              "  'Major',\n",
              "  'ipadSc_urls.num',\n",
              "  'lang.num',\n",
              "  'Entertainment',\n",
              "  'Education',\n",
              "  'Games',\n",
              "  'Others'),\n",
              " (0, 1, 2, 3, 4, 5, 6, 8, 9, 14, 15, 16, 17))"
            ]
          },
          "execution_count": 830,
          "metadata": {},
          "output_type": "execute_result"
        }
      ],
      "source": [
        "sbs.k_feature_names_, sbs.k_feature_idx_"
      ]
    },
    {
      "cell_type": "code",
      "execution_count": null,
      "id": "0bf4bf8e",
      "metadata": {
        "id": "0bf4bf8e"
      },
      "outputs": [],
      "source": [
        "X = X.drop(['12+','17+','4+','9+','Minor'],axis=1)"
      ]
    },
    {
      "cell_type": "markdown",
      "id": "cdf476ad",
      "metadata": {
        "id": "cdf476ad"
      },
      "source": [
        "#Model Evaluation"
      ]
    },
    {
      "cell_type": "markdown",
      "source": [
        "##Linear regression"
      ],
      "metadata": {
        "id": "cyqmA-JJaphs"
      },
      "id": "cyqmA-JJaphs"
    },
    {
      "cell_type": "code",
      "execution_count": null,
      "id": "0ec7e24c",
      "metadata": {
        "id": "0ec7e24c",
        "outputId": "b9e1aa45-2524-40c8-d53c-7c07edcd9076",
        "colab": {
          "base_uri": "https://localhost:8080/"
        }
      },
      "outputs": [
        {
          "output_type": "execute_result",
          "data": {
            "text/plain": [
              "LinearRegression()"
            ]
          },
          "metadata": {},
          "execution_count": 32
        }
      ],
      "source": [
        "lm = LinearRegression()\n",
        "lm.fit(X,Y)"
      ]
    },
    {
      "cell_type": "code",
      "execution_count": null,
      "id": "c79833bd",
      "metadata": {
        "id": "c79833bd",
        "outputId": "7d22a91c-7e7d-448f-f73d-0f78057d84a0",
        "colab": {
          "base_uri": "https://localhost:8080/"
        }
      },
      "outputs": [
        {
          "output_type": "stream",
          "name": "stdout",
          "text": [
            "1.5858751651430238\n"
          ]
        }
      ],
      "source": [
        "print(lm.intercept_)"
      ]
    },
    {
      "cell_type": "code",
      "execution_count": null,
      "id": "40e912f5",
      "metadata": {
        "id": "40e912f5",
        "outputId": "e97b6ea9-8dfd-4eb3-9810-4fb68c0a7539",
        "colab": {
          "base_uri": "https://localhost:8080/",
          "height": 488
        }
      },
      "outputs": [
        {
          "output_type": "execute_result",
          "data": {
            "text/plain": [
              "                   Coefficient\n",
              "size_bytes       -3.245495e-05\n",
              "price             5.109432e-03\n",
              "rating_count_tot  1.647307e-07\n",
              "rating_count_ver  2.733760e-06\n",
              "user_rating_ver   6.317114e-01\n",
              "sup_devices.num  -7.392900e-03\n",
              "Major             2.828374e-05\n",
              "ipadSc_urls.num   5.660292e-02\n",
              "lang.num          5.861604e-03\n",
              "Education        -8.389052e-02\n",
              "Entertainment    -1.399525e-01\n",
              "Games            -1.377350e-01\n",
              "Others           -4.516833e-03\n",
              "Shopping          3.660949e-01"
            ],
            "text/html": [
              "\n",
              "  <div id=\"df-86cb5eea-6a25-42c3-8101-6ff7c9f3154a\">\n",
              "    <div class=\"colab-df-container\">\n",
              "      <div>\n",
              "<style scoped>\n",
              "    .dataframe tbody tr th:only-of-type {\n",
              "        vertical-align: middle;\n",
              "    }\n",
              "\n",
              "    .dataframe tbody tr th {\n",
              "        vertical-align: top;\n",
              "    }\n",
              "\n",
              "    .dataframe thead th {\n",
              "        text-align: right;\n",
              "    }\n",
              "</style>\n",
              "<table border=\"1\" class=\"dataframe\">\n",
              "  <thead>\n",
              "    <tr style=\"text-align: right;\">\n",
              "      <th></th>\n",
              "      <th>Coefficient</th>\n",
              "    </tr>\n",
              "  </thead>\n",
              "  <tbody>\n",
              "    <tr>\n",
              "      <th>size_bytes</th>\n",
              "      <td>-3.245495e-05</td>\n",
              "    </tr>\n",
              "    <tr>\n",
              "      <th>price</th>\n",
              "      <td>5.109432e-03</td>\n",
              "    </tr>\n",
              "    <tr>\n",
              "      <th>rating_count_tot</th>\n",
              "      <td>1.647307e-07</td>\n",
              "    </tr>\n",
              "    <tr>\n",
              "      <th>rating_count_ver</th>\n",
              "      <td>2.733760e-06</td>\n",
              "    </tr>\n",
              "    <tr>\n",
              "      <th>user_rating_ver</th>\n",
              "      <td>6.317114e-01</td>\n",
              "    </tr>\n",
              "    <tr>\n",
              "      <th>sup_devices.num</th>\n",
              "      <td>-7.392900e-03</td>\n",
              "    </tr>\n",
              "    <tr>\n",
              "      <th>Major</th>\n",
              "      <td>2.828374e-05</td>\n",
              "    </tr>\n",
              "    <tr>\n",
              "      <th>ipadSc_urls.num</th>\n",
              "      <td>5.660292e-02</td>\n",
              "    </tr>\n",
              "    <tr>\n",
              "      <th>lang.num</th>\n",
              "      <td>5.861604e-03</td>\n",
              "    </tr>\n",
              "    <tr>\n",
              "      <th>Education</th>\n",
              "      <td>-8.389052e-02</td>\n",
              "    </tr>\n",
              "    <tr>\n",
              "      <th>Entertainment</th>\n",
              "      <td>-1.399525e-01</td>\n",
              "    </tr>\n",
              "    <tr>\n",
              "      <th>Games</th>\n",
              "      <td>-1.377350e-01</td>\n",
              "    </tr>\n",
              "    <tr>\n",
              "      <th>Others</th>\n",
              "      <td>-4.516833e-03</td>\n",
              "    </tr>\n",
              "    <tr>\n",
              "      <th>Shopping</th>\n",
              "      <td>3.660949e-01</td>\n",
              "    </tr>\n",
              "  </tbody>\n",
              "</table>\n",
              "</div>\n",
              "      <button class=\"colab-df-convert\" onclick=\"convertToInteractive('df-86cb5eea-6a25-42c3-8101-6ff7c9f3154a')\"\n",
              "              title=\"Convert this dataframe to an interactive table.\"\n",
              "              style=\"display:none;\">\n",
              "        \n",
              "  <svg xmlns=\"http://www.w3.org/2000/svg\" height=\"24px\"viewBox=\"0 0 24 24\"\n",
              "       width=\"24px\">\n",
              "    <path d=\"M0 0h24v24H0V0z\" fill=\"none\"/>\n",
              "    <path d=\"M18.56 5.44l.94 2.06.94-2.06 2.06-.94-2.06-.94-.94-2.06-.94 2.06-2.06.94zm-11 1L8.5 8.5l.94-2.06 2.06-.94-2.06-.94L8.5 2.5l-.94 2.06-2.06.94zm10 10l.94 2.06.94-2.06 2.06-.94-2.06-.94-.94-2.06-.94 2.06-2.06.94z\"/><path d=\"M17.41 7.96l-1.37-1.37c-.4-.4-.92-.59-1.43-.59-.52 0-1.04.2-1.43.59L10.3 9.45l-7.72 7.72c-.78.78-.78 2.05 0 2.83L4 21.41c.39.39.9.59 1.41.59.51 0 1.02-.2 1.41-.59l7.78-7.78 2.81-2.81c.8-.78.8-2.07 0-2.86zM5.41 20L4 18.59l7.72-7.72 1.47 1.35L5.41 20z\"/>\n",
              "  </svg>\n",
              "      </button>\n",
              "      \n",
              "  <style>\n",
              "    .colab-df-container {\n",
              "      display:flex;\n",
              "      flex-wrap:wrap;\n",
              "      gap: 12px;\n",
              "    }\n",
              "\n",
              "    .colab-df-convert {\n",
              "      background-color: #E8F0FE;\n",
              "      border: none;\n",
              "      border-radius: 50%;\n",
              "      cursor: pointer;\n",
              "      display: none;\n",
              "      fill: #1967D2;\n",
              "      height: 32px;\n",
              "      padding: 0 0 0 0;\n",
              "      width: 32px;\n",
              "    }\n",
              "\n",
              "    .colab-df-convert:hover {\n",
              "      background-color: #E2EBFA;\n",
              "      box-shadow: 0px 1px 2px rgba(60, 64, 67, 0.3), 0px 1px 3px 1px rgba(60, 64, 67, 0.15);\n",
              "      fill: #174EA6;\n",
              "    }\n",
              "\n",
              "    [theme=dark] .colab-df-convert {\n",
              "      background-color: #3B4455;\n",
              "      fill: #D2E3FC;\n",
              "    }\n",
              "\n",
              "    [theme=dark] .colab-df-convert:hover {\n",
              "      background-color: #434B5C;\n",
              "      box-shadow: 0px 1px 3px 1px rgba(0, 0, 0, 0.15);\n",
              "      filter: drop-shadow(0px 1px 2px rgba(0, 0, 0, 0.3));\n",
              "      fill: #FFFFFF;\n",
              "    }\n",
              "  </style>\n",
              "\n",
              "      <script>\n",
              "        const buttonEl =\n",
              "          document.querySelector('#df-86cb5eea-6a25-42c3-8101-6ff7c9f3154a button.colab-df-convert');\n",
              "        buttonEl.style.display =\n",
              "          google.colab.kernel.accessAllowed ? 'block' : 'none';\n",
              "\n",
              "        async function convertToInteractive(key) {\n",
              "          const element = document.querySelector('#df-86cb5eea-6a25-42c3-8101-6ff7c9f3154a');\n",
              "          const dataTable =\n",
              "            await google.colab.kernel.invokeFunction('convertToInteractive',\n",
              "                                                     [key], {});\n",
              "          if (!dataTable) return;\n",
              "\n",
              "          const docLinkHtml = 'Like what you see? Visit the ' +\n",
              "            '<a target=\"_blank\" href=https://colab.research.google.com/notebooks/data_table.ipynb>data table notebook</a>'\n",
              "            + ' to learn more about interactive tables.';\n",
              "          element.innerHTML = '';\n",
              "          dataTable['output_type'] = 'display_data';\n",
              "          await google.colab.output.renderOutput(dataTable, element);\n",
              "          const docLink = document.createElement('div');\n",
              "          docLink.innerHTML = docLinkHtml;\n",
              "          element.appendChild(docLink);\n",
              "        }\n",
              "      </script>\n",
              "    </div>\n",
              "  </div>\n",
              "  "
            ]
          },
          "metadata": {},
          "execution_count": 34
        }
      ],
      "source": [
        "coeff_df = pd.DataFrame(lm.coef_,X.columns,columns=['Coefficient'])\n",
        "coeff_df"
      ]
    },
    {
      "cell_type": "code",
      "execution_count": null,
      "id": "c382b521",
      "metadata": {
        "id": "c382b521",
        "outputId": "cc1304b8-fc01-4cdb-a042-259443536da5",
        "colab": {
          "base_uri": "https://localhost:8080/"
        }
      },
      "outputs": [
        {
          "output_type": "stream",
          "name": "stderr",
          "text": [
            "/usr/local/lib/python3.7/dist-packages/statsmodels/tools/_testing.py:19: FutureWarning: pandas.util.testing is deprecated. Use the functions in the public API at pandas.testing instead.\n",
            "  import pandas.util.testing as tm\n"
          ]
        },
        {
          "output_type": "stream",
          "name": "stdout",
          "text": [
            "                            OLS Regression Results                            \n",
            "==============================================================================\n",
            "Dep. Variable:            user_rating   R-squared:                       0.608\n",
            "Model:                            OLS   Adj. R-squared:                  0.607\n",
            "Method:                 Least Squares   F-statistic:                     685.9\n",
            "Date:                Sun, 03 Apr 2022   Prob (F-statistic):               0.00\n",
            "Time:                        20:17:30   Log-Likelihood:                -7859.3\n",
            "No. Observations:                5757   AIC:                         1.575e+04\n",
            "Df Residuals:                    5743   BIC:                         1.584e+04\n",
            "Df Model:                          13                                         \n",
            "Covariance Type:            nonrobust                                         \n",
            "====================================================================================\n",
            "                       coef    std err          t      P>|t|      [0.025      0.975]\n",
            "------------------------------------------------------------------------------------\n",
            "const                1.3216      0.114     11.607      0.000       1.098       1.545\n",
            "size_bytes       -3.245e-05   3.92e-05     -0.829      0.407      -0.000    4.43e-05\n",
            "price                0.0051      0.002      2.454      0.014       0.001       0.009\n",
            "rating_count_tot  1.647e-07   1.59e-07      1.036      0.300   -1.47e-07    4.76e-07\n",
            "rating_count_ver  2.734e-06   3.18e-06      0.858      0.391   -3.51e-06    8.98e-06\n",
            "user_rating_ver      0.6317      0.007     85.440      0.000       0.617       0.646\n",
            "sup_devices.num     -0.0074      0.003     -2.139      0.033      -0.014      -0.001\n",
            "Major             2.828e-05   4.06e-05      0.696      0.486   -5.14e-05       0.000\n",
            "ipadSc_urls.num      0.0566      0.007      8.003      0.000       0.043       0.070\n",
            "lang.num             0.0059      0.002      3.616      0.000       0.003       0.009\n",
            "Education            0.1804      0.053      3.436      0.001       0.077       0.283\n",
            "Entertainment        0.1244      0.047      2.640      0.008       0.032       0.217\n",
            "Games                0.1266      0.038      3.290      0.001       0.051       0.202\n",
            "Others               0.2598      0.034      7.620      0.000       0.193       0.327\n",
            "Shopping             0.6304      0.083      7.571      0.000       0.467       0.794\n",
            "==============================================================================\n",
            "Omnibus:                     1075.805   Durbin-Watson:                   2.020\n",
            "Prob(Omnibus):                  0.000   Jarque-Bera (JB):             2643.745\n",
            "Skew:                           1.036   Prob(JB):                         0.00\n",
            "Kurtosis:                       5.594   Cond. No.                     6.76e+19\n",
            "==============================================================================\n",
            "\n",
            "Warnings:\n",
            "[1] Standard Errors assume that the covariance matrix of the errors is correctly specified.\n",
            "[2] The smallest eigenvalue is 8.43e-27. This might indicate that there are\n",
            "strong multicollinearity problems or that the design matrix is singular.\n"
          ]
        },
        {
          "output_type": "stream",
          "name": "stderr",
          "text": [
            "/usr/local/lib/python3.7/dist-packages/statsmodels/tsa/tsatools.py:117: FutureWarning: In a future version of pandas all arguments of concat except for the argument 'objs' will be keyword-only\n",
            "  x = pd.concat(x[::order], 1)\n"
          ]
        }
      ],
      "source": [
        "import statsmodels.api as sm\n",
        "from scipy import stats\n",
        "\n",
        "X = sm.add_constant(X)\n",
        "est = sm.OLS(Y, X)\n",
        "est2 = est.fit()\n",
        "print(est2.summary())"
      ]
    },
    {
      "cell_type": "markdown",
      "id": "bc05ca96",
      "metadata": {
        "id": "bc05ca96"
      },
      "source": [
        "**As we can see the p values of size_bytes, rating_count_tot, rating_count_ver and Major has a p value greater than 0.05**"
      ]
    },
    {
      "cell_type": "markdown",
      "id": "4d732057",
      "metadata": {
        "id": "4d732057"
      },
      "source": [
        "**Let us drop them and refit the model again**"
      ]
    },
    {
      "cell_type": "code",
      "execution_count": null,
      "id": "476fd6db",
      "metadata": {
        "scrolled": true,
        "id": "476fd6db",
        "outputId": "92680f25-224e-4ca8-9805-846512d7f597",
        "colab": {
          "base_uri": "https://localhost:8080/"
        }
      },
      "outputs": [
        {
          "output_type": "stream",
          "name": "stdout",
          "text": [
            "                            OLS Regression Results                            \n",
            "==============================================================================\n",
            "Dep. Variable:            user_rating   R-squared:                       0.608\n",
            "Model:                            OLS   Adj. R-squared:                  0.607\n",
            "Method:                 Least Squares   F-statistic:                     743.0\n",
            "Date:                Sun, 03 Apr 2022   Prob (F-statistic):               0.00\n",
            "Time:                        20:17:42   Log-Likelihood:                -7859.6\n",
            "No. Observations:                5757   AIC:                         1.575e+04\n",
            "Df Residuals:                    5744   BIC:                         1.583e+04\n",
            "Df Model:                          12                                         \n",
            "Covariance Type:            nonrobust                                         \n",
            "====================================================================================\n",
            "                       coef    std err          t      P>|t|      [0.025      0.975]\n",
            "------------------------------------------------------------------------------------\n",
            "const                1.3205      0.114     11.600      0.000       1.097       1.544\n",
            "size_bytes       -3.285e-05   3.92e-05     -0.839      0.402      -0.000    4.39e-05\n",
            "price                0.0051      0.002      2.461      0.014       0.001       0.009\n",
            "rating_count_tot  1.649e-07   1.59e-07      1.038      0.300   -1.47e-07    4.77e-07\n",
            "rating_count_ver  2.723e-06   3.18e-06      0.855      0.393   -3.52e-06    8.96e-06\n",
            "user_rating_ver      0.6318      0.007     85.453      0.000       0.617       0.646\n",
            "sup_devices.num     -0.0074      0.003     -2.130      0.033      -0.014      -0.001\n",
            "ipadSc_urls.num      0.0567      0.007      8.015      0.000       0.043       0.071\n",
            "lang.num             0.0058      0.002      3.608      0.000       0.003       0.009\n",
            "Education            0.1800      0.053      3.427      0.001       0.077       0.283\n",
            "Entertainment        0.1241      0.047      2.635      0.008       0.032       0.216\n",
            "Games                0.1266      0.038      3.292      0.001       0.051       0.202\n",
            "Others               0.2597      0.034      7.617      0.000       0.193       0.326\n",
            "Shopping             0.6302      0.083      7.568      0.000       0.467       0.793\n",
            "==============================================================================\n",
            "Omnibus:                     1075.149   Durbin-Watson:                   2.020\n",
            "Prob(Omnibus):                  0.000   Jarque-Bera (JB):             2641.373\n",
            "Skew:                           1.035   Prob(JB):                         0.00\n",
            "Kurtosis:                       5.593   Cond. No.                     5.15e+19\n",
            "==============================================================================\n",
            "\n",
            "Warnings:\n",
            "[1] Standard Errors assume that the covariance matrix of the errors is correctly specified.\n",
            "[2] The smallest eigenvalue is 1.45e-26. This might indicate that there are\n",
            "strong multicollinearity problems or that the design matrix is singular.\n"
          ]
        },
        {
          "output_type": "stream",
          "name": "stderr",
          "text": [
            "/usr/local/lib/python3.7/dist-packages/statsmodels/tsa/tsatools.py:117: FutureWarning: In a future version of pandas all arguments of concat except for the argument 'objs' will be keyword-only\n",
            "  x = pd.concat(x[::order], 1)\n"
          ]
        }
      ],
      "source": [
        "X = sm.add_constant(X.drop(['Major'],axis=1))\n",
        "est = sm.OLS(Y, X)\n",
        "est2 = est.fit()\n",
        "print(est2.summary())"
      ]
    },
    {
      "cell_type": "code",
      "execution_count": null,
      "id": "86d93c2b",
      "metadata": {
        "id": "86d93c2b",
        "outputId": "c6982d0d-749c-43ac-8f31-7161cdf4b244",
        "colab": {
          "base_uri": "https://localhost:8080/"
        }
      },
      "outputs": [
        {
          "output_type": "stream",
          "name": "stdout",
          "text": [
            "                            OLS Regression Results                            \n",
            "==============================================================================\n",
            "Dep. Variable:            user_rating   R-squared:                       0.608\n",
            "Model:                            OLS   Adj. R-squared:                  0.607\n",
            "Method:                 Least Squares   F-statistic:                     810.6\n",
            "Date:                Sun, 03 Apr 2022   Prob (F-statistic):               0.00\n",
            "Time:                        20:17:45   Log-Likelihood:                -7859.9\n",
            "No. Observations:                5757   AIC:                         1.574e+04\n",
            "Df Residuals:                    5745   BIC:                         1.582e+04\n",
            "Df Model:                          11                                         \n",
            "Covariance Type:            nonrobust                                         \n",
            "====================================================================================\n",
            "                       coef    std err          t      P>|t|      [0.025      0.975]\n",
            "------------------------------------------------------------------------------------\n",
            "const                1.3042      0.112     11.628      0.000       1.084       1.524\n",
            "price                0.0048      0.002      2.352      0.019       0.001       0.009\n",
            "rating_count_tot  1.654e-07   1.59e-07      1.040      0.298   -1.46e-07    4.77e-07\n",
            "rating_count_ver  2.696e-06   3.18e-06      0.847      0.397   -3.55e-06    8.94e-06\n",
            "user_rating_ver      0.6317      0.007     85.453      0.000       0.617       0.646\n",
            "sup_devices.num     -0.0069      0.003     -2.024      0.043      -0.014      -0.000\n",
            "ipadSc_urls.num      0.0565      0.007      7.992      0.000       0.043       0.070\n",
            "lang.num             0.0058      0.002      3.587      0.000       0.003       0.009\n",
            "Education            0.1767      0.052      3.374      0.001       0.074       0.279\n",
            "Entertainment        0.1221      0.047      2.595      0.009       0.030       0.214\n",
            "Games                0.1188      0.037      3.184      0.001       0.046       0.192\n",
            "Others               0.2586      0.034      7.591      0.000       0.192       0.325\n",
            "Shopping             0.6280      0.083      7.546      0.000       0.465       0.791\n",
            "==============================================================================\n",
            "Omnibus:                     1075.843   Durbin-Watson:                   2.020\n",
            "Prob(Omnibus):                  0.000   Jarque-Bera (JB):             2642.029\n",
            "Skew:                           1.036   Prob(JB):                         0.00\n",
            "Kurtosis:                       5.592   Cond. No.                     5.09e+19\n",
            "==============================================================================\n",
            "\n",
            "Warnings:\n",
            "[1] Standard Errors assume that the covariance matrix of the errors is correctly specified.\n",
            "[2] The smallest eigenvalue is 1.49e-26. This might indicate that there are\n",
            "strong multicollinearity problems or that the design matrix is singular.\n"
          ]
        },
        {
          "output_type": "stream",
          "name": "stderr",
          "text": [
            "/usr/local/lib/python3.7/dist-packages/statsmodels/tsa/tsatools.py:117: FutureWarning: In a future version of pandas all arguments of concat except for the argument 'objs' will be keyword-only\n",
            "  x = pd.concat(x[::order], 1)\n"
          ]
        }
      ],
      "source": [
        "X = sm.add_constant(X.drop(['size_bytes'],axis=1))\n",
        "est = sm.OLS(Y, X)\n",
        "est2 = est.fit()\n",
        "print(est2.summary())"
      ]
    },
    {
      "cell_type": "code",
      "execution_count": null,
      "id": "9c173780",
      "metadata": {
        "id": "9c173780",
        "outputId": "ac4b7c68-c5e5-4e7a-ebec-02840c8f982a",
        "colab": {
          "base_uri": "https://localhost:8080/"
        }
      },
      "outputs": [
        {
          "output_type": "stream",
          "name": "stdout",
          "text": [
            "                            OLS Regression Results                            \n",
            "==============================================================================\n",
            "Dep. Variable:            user_rating   R-squared:                       0.608\n",
            "Model:                            OLS   Adj. R-squared:                  0.607\n",
            "Method:                 Least Squares   F-statistic:                     891.6\n",
            "Date:                Sun, 03 Apr 2022   Prob (F-statistic):               0.00\n",
            "Time:                        20:17:48   Log-Likelihood:                -7860.3\n",
            "No. Observations:                5757   AIC:                         1.574e+04\n",
            "Df Residuals:                    5746   BIC:                         1.582e+04\n",
            "Df Model:                          10                                         \n",
            "Covariance Type:            nonrobust                                         \n",
            "====================================================================================\n",
            "                       coef    std err          t      P>|t|      [0.025      0.975]\n",
            "------------------------------------------------------------------------------------\n",
            "const                1.3016      0.112     11.609      0.000       1.082       1.521\n",
            "price                0.0048      0.002      2.343      0.019       0.001       0.009\n",
            "rating_count_tot  1.873e-07   1.57e-07      1.194      0.232    -1.2e-07    4.95e-07\n",
            "user_rating_ver      0.6321      0.007     85.683      0.000       0.618       0.647\n",
            "sup_devices.num     -0.0068      0.003     -2.002      0.045      -0.014      -0.000\n",
            "ipadSc_urls.num      0.0565      0.007      7.998      0.000       0.043       0.070\n",
            "lang.num             0.0058      0.002      3.575      0.000       0.003       0.009\n",
            "Education            0.1760      0.052      3.361      0.001       0.073       0.279\n",
            "Entertainment        0.1208      0.047      2.570      0.010       0.029       0.213\n",
            "Games                0.1182      0.037      3.167      0.002       0.045       0.191\n",
            "Others               0.2581      0.034      7.576      0.000       0.191       0.325\n",
            "Shopping             0.6285      0.083      7.552      0.000       0.465       0.792\n",
            "==============================================================================\n",
            "Omnibus:                     1075.624   Durbin-Watson:                   2.020\n",
            "Prob(Omnibus):                  0.000   Jarque-Bera (JB):             2641.922\n",
            "Skew:                           1.036   Prob(JB):                         0.00\n",
            "Kurtosis:                       5.593   Cond. No.                     5.67e+19\n",
            "==============================================================================\n",
            "\n",
            "Warnings:\n",
            "[1] Standard Errors assume that the covariance matrix of the errors is correctly specified.\n",
            "[2] The smallest eigenvalue is 1.2e-26. This might indicate that there are\n",
            "strong multicollinearity problems or that the design matrix is singular.\n"
          ]
        },
        {
          "output_type": "stream",
          "name": "stderr",
          "text": [
            "/usr/local/lib/python3.7/dist-packages/statsmodels/tsa/tsatools.py:117: FutureWarning: In a future version of pandas all arguments of concat except for the argument 'objs' will be keyword-only\n",
            "  x = pd.concat(x[::order], 1)\n"
          ]
        }
      ],
      "source": [
        "X = sm.add_constant(X.drop(['rating_count_ver'],axis=1))\n",
        "est = sm.OLS(Y, X)\n",
        "est2 = est.fit()\n",
        "print(est2.summary())"
      ]
    },
    {
      "cell_type": "code",
      "execution_count": null,
      "id": "75a20fbb",
      "metadata": {
        "id": "75a20fbb",
        "outputId": "334696ba-f300-4ff8-e286-faba1a6d8aec",
        "colab": {
          "base_uri": "https://localhost:8080/"
        }
      },
      "outputs": [
        {
          "output_type": "stream",
          "name": "stdout",
          "text": [
            "                            OLS Regression Results                            \n",
            "==============================================================================\n",
            "Dep. Variable:            user_rating   R-squared:                       0.608\n",
            "Model:                            OLS   Adj. R-squared:                  0.607\n",
            "Method:                 Least Squares   F-statistic:                     990.4\n",
            "Date:                Sun, 03 Apr 2022   Prob (F-statistic):               0.00\n",
            "Time:                        20:17:57   Log-Likelihood:                -7861.0\n",
            "No. Observations:                5757   AIC:                         1.574e+04\n",
            "Df Residuals:                    5747   BIC:                         1.581e+04\n",
            "Df Model:                           9                                         \n",
            "Covariance Type:            nonrobust                                         \n",
            "===================================================================================\n",
            "                      coef    std err          t      P>|t|      [0.025      0.975]\n",
            "-----------------------------------------------------------------------------------\n",
            "const               1.3004      0.112     11.598      0.000       1.081       1.520\n",
            "price               0.0047      0.002      2.308      0.021       0.001       0.009\n",
            "user_rating_ver     0.6326      0.007     85.934      0.000       0.618       0.647\n",
            "sup_devices.num    -0.0068      0.003     -1.992      0.046      -0.013      -0.000\n",
            "ipadSc_urls.num     0.0564      0.007      7.985      0.000       0.043       0.070\n",
            "lang.num            0.0060      0.002      3.744      0.000       0.003       0.009\n",
            "Education           0.1737      0.052      3.320      0.001       0.071       0.276\n",
            "Entertainment       0.1200      0.047      2.553      0.011       0.028       0.212\n",
            "Games               0.1182      0.037      3.168      0.002       0.045       0.191\n",
            "Others              0.2581      0.034      7.577      0.000       0.191       0.325\n",
            "Shopping            0.6303      0.083      7.575      0.000       0.467       0.793\n",
            "==============================================================================\n",
            "Omnibus:                     1074.933   Durbin-Watson:                   2.019\n",
            "Prob(Omnibus):                  0.000   Jarque-Bera (JB):             2638.517\n",
            "Skew:                           1.036   Prob(JB):                         0.00\n",
            "Kurtosis:                       5.590   Cond. No.                     2.66e+16\n",
            "==============================================================================\n",
            "\n",
            "Warnings:\n",
            "[1] Standard Errors assume that the covariance matrix of the errors is correctly specified.\n",
            "[2] The smallest eigenvalue is 1.2e-26. This might indicate that there are\n",
            "strong multicollinearity problems or that the design matrix is singular.\n"
          ]
        },
        {
          "output_type": "stream",
          "name": "stderr",
          "text": [
            "/usr/local/lib/python3.7/dist-packages/statsmodels/tsa/tsatools.py:117: FutureWarning: In a future version of pandas all arguments of concat except for the argument 'objs' will be keyword-only\n",
            "  x = pd.concat(x[::order], 1)\n"
          ]
        }
      ],
      "source": [
        "X = sm.add_constant(X.drop(['rating_count_tot'],axis=1))\n",
        "est = sm.OLS(Y, X)\n",
        "est2 = est.fit()\n",
        "print(est2.summary())"
      ]
    },
    {
      "cell_type": "markdown",
      "source": [
        "**Choose the same variables for the test set**"
      ],
      "metadata": {
        "id": "oMo09wbjax73"
      },
      "id": "oMo09wbjax73"
    },
    {
      "cell_type": "code",
      "execution_count": null,
      "id": "c35e615e",
      "metadata": {
        "id": "c35e615e",
        "outputId": "4b613659-5a8a-4059-ff78-ef5de23496b4",
        "colab": {
          "base_uri": "https://localhost:8080/"
        }
      },
      "outputs": [
        {
          "output_type": "stream",
          "name": "stdout",
          "text": [
            "<class 'pandas.core.frame.DataFrame'>\n",
            "Int64Index: 1440 entries, 3592 to 1423\n",
            "Data columns (total 10 columns):\n",
            " #   Column           Non-Null Count  Dtype  \n",
            "---  ------           --------------  -----  \n",
            " 0   price            1440 non-null   float64\n",
            " 1   user_rating_ver  1440 non-null   float64\n",
            " 2   sup_devices.num  1440 non-null   int64  \n",
            " 3   ipadSc_urls.num  1440 non-null   int64  \n",
            " 4   lang.num         1440 non-null   int64  \n",
            " 5   Games            1440 non-null   float64\n",
            " 6   Others           1440 non-null   float64\n",
            " 7   Entertainment    1440 non-null   float64\n",
            " 8   Education        1440 non-null   float64\n",
            " 9   Shopping         1440 non-null   float64\n",
            "dtypes: float64(7), int64(3)\n",
            "memory usage: 123.8 KB\n"
          ]
        }
      ],
      "source": [
        "x_test = x_test[['price','user_rating_ver','sup_devices.num','ipadSc_urls.num','lang.num','Games','Others','Entertainment','Education','Shopping']]\n",
        "x_test.info()"
      ]
    },
    {
      "cell_type": "code",
      "execution_count": null,
      "id": "1c541da4",
      "metadata": {
        "id": "1c541da4",
        "outputId": "d7f861cb-298d-4000-9419-45f31d0a250e",
        "colab": {
          "base_uri": "https://localhost:8080/"
        }
      },
      "outputs": [
        {
          "output_type": "stream",
          "name": "stdout",
          "text": [
            "<class 'pandas.core.frame.DataFrame'>\n",
            "Int64Index: 5757 entries, 122 to 860\n",
            "Data columns (total 10 columns):\n",
            " #   Column           Non-Null Count  Dtype  \n",
            "---  ------           --------------  -----  \n",
            " 0   price            5757 non-null   float64\n",
            " 1   user_rating_ver  5757 non-null   float64\n",
            " 2   sup_devices.num  5757 non-null   int64  \n",
            " 3   ipadSc_urls.num  5757 non-null   int64  \n",
            " 4   lang.num         5757 non-null   int64  \n",
            " 5   Games            5757 non-null   float64\n",
            " 6   Others           5757 non-null   float64\n",
            " 7   Entertainment    5757 non-null   float64\n",
            " 8   Education        5757 non-null   float64\n",
            " 9   Shopping         5757 non-null   float64\n",
            "dtypes: float64(7), int64(3)\n",
            "memory usage: 494.7 KB\n",
            "<class 'pandas.core.frame.DataFrame'>\n",
            "Int64Index: 1440 entries, 3592 to 1423\n",
            "Data columns (total 10 columns):\n",
            " #   Column           Non-Null Count  Dtype  \n",
            "---  ------           --------------  -----  \n",
            " 0   price            1440 non-null   float64\n",
            " 1   user_rating_ver  1440 non-null   float64\n",
            " 2   sup_devices.num  1440 non-null   int64  \n",
            " 3   ipadSc_urls.num  1440 non-null   int64  \n",
            " 4   lang.num         1440 non-null   int64  \n",
            " 5   Games            1440 non-null   float64\n",
            " 6   Others           1440 non-null   float64\n",
            " 7   Entertainment    1440 non-null   float64\n",
            " 8   Education        1440 non-null   float64\n",
            " 9   Shopping         1440 non-null   float64\n",
            "dtypes: float64(7), int64(3)\n",
            "memory usage: 123.8 KB\n"
          ]
        }
      ],
      "source": [
        "X = X[['price','user_rating_ver','sup_devices.num','ipadSc_urls.num','lang.num','Games','Others','Entertainment','Education','Shopping']]\n",
        "X.info()\n",
        "x_test.info()\n"
      ]
    },
    {
      "cell_type": "code",
      "execution_count": null,
      "id": "fb7abbbb",
      "metadata": {
        "id": "fb7abbbb",
        "outputId": "72f2893b-021e-4729-c8b6-d350e52bd35d",
        "colab": {
          "base_uri": "https://localhost:8080/"
        }
      },
      "outputs": [
        {
          "output_type": "execute_result",
          "data": {
            "text/plain": [
              "LinearRegression()"
            ]
          },
          "metadata": {},
          "execution_count": 42
        }
      ],
      "source": [
        "#Fit the final simple linear regression model\n",
        "lm = LinearRegression()\n",
        "\n",
        "lm.fit(X,Y)"
      ]
    },
    {
      "cell_type": "code",
      "execution_count": null,
      "id": "3034c5c2",
      "metadata": {
        "id": "3034c5c2"
      },
      "outputs": [],
      "source": [
        "predictions = lm.predict(X)"
      ]
    },
    {
      "cell_type": "code",
      "execution_count": null,
      "id": "dc13a107",
      "metadata": {
        "id": "dc13a107",
        "outputId": "34ba4a23-afb3-4c63-c0b1-4c3ff15b7bee",
        "colab": {
          "base_uri": "https://localhost:8080/",
          "height": 282
        }
      },
      "outputs": [
        {
          "output_type": "execute_result",
          "data": {
            "text/plain": [
              "<matplotlib.collections.PathCollection at 0x7f7243e9c610>"
            ]
          },
          "metadata": {},
          "execution_count": 44
        },
        {
          "output_type": "display_data",
          "data": {
            "text/plain": [
              "<Figure size 432x288 with 1 Axes>"
            ],
            "image/png": "[encoded data removed]"
          },
          "metadata": {
            "needs_background": "light"
          }
        }
      ],
      "source": [
        "plt.scatter(y_train,predictions)"
      ]
    },
    {
      "cell_type": "code",
      "execution_count": null,
      "id": "fa528f5b",
      "metadata": {
        "id": "fa528f5b",
        "outputId": "acc5e80a-8d95-41f8-f902-245565302106",
        "colab": {
          "base_uri": "https://localhost:8080/",
          "height": 352
        }
      },
      "outputs": [
        {
          "output_type": "stream",
          "name": "stderr",
          "text": [
            "/usr/local/lib/python3.7/dist-packages/seaborn/distributions.py:2619: FutureWarning: `distplot` is a deprecated function and will be removed in a future version. Please adapt your code to use either `displot` (a figure-level function with similar flexibility) or `histplot` (an axes-level function for histograms).\n",
            "  warnings.warn(msg, FutureWarning)\n"
          ]
        },
        {
          "output_type": "execute_result",
          "data": {
            "text/plain": [
              "<matplotlib.axes._subplots.AxesSubplot at 0x7f722d5b24d0>"
            ]
          },
          "metadata": {},
          "execution_count": 45
        },
        {
          "output_type": "display_data",
          "data": {
            "text/plain": [
              "<Figure size 432x288 with 1 Axes>"
            ],
            "image/png": "[encoded data removed]"
          },
          "metadata": {
            "needs_background": "light"
          }
        }
      ],
      "source": [
        "sns.distplot((y_train-predictions),bins=50)"
      ]
    },
    {
      "cell_type": "code",
      "execution_count": null,
      "id": "3b30c3ea",
      "metadata": {
        "id": "3b30c3ea",
        "outputId": "3e14457b-2a9d-495e-f5ca-3fefe772ab63",
        "colab": {
          "base_uri": "https://localhost:8080/"
        }
      },
      "outputs": [
        {
          "output_type": "stream",
          "name": "stdout",
          "text": [
            "MAE: 0.636123169038673\n",
            "MSE: 0.8985715941401349\n",
            "RMSE: 0.9479301631133672\n"
          ]
        }
      ],
      "source": [
        "from sklearn import metrics\n",
        "print('MAE:', metrics.mean_absolute_error(y_train, predictions))\n",
        "print('MSE:', metrics.mean_squared_error(y_train, predictions))\n",
        "print('RMSE:', np.sqrt(metrics.mean_squared_error(y_train, predictions)))"
      ]
    },
    {
      "cell_type": "code",
      "execution_count": null,
      "id": "f6d0679f",
      "metadata": {
        "id": "f6d0679f",
        "outputId": "446f7483-139d-4735-d34e-b2ef2891043e",
        "colab": {
          "base_uri": "https://localhost:8080/"
        }
      },
      "outputs": [
        {
          "output_type": "stream",
          "name": "stdout",
          "text": [
            "MAE: 0.6517105625984374\n",
            "MSE: 0.9337845907056233\n",
            "RMSE: 0.9663253027348623\n"
          ]
        }
      ],
      "source": [
        "#Error terms are not normal but let us evaluate the test MSe\n",
        "test_pred = lm.predict(x_test)\n",
        "print('MAE:', metrics.mean_absolute_error(y_test, test_pred))\n",
        "print('MSE:', metrics.mean_squared_error(y_test, test_pred))\n",
        "print('RMSE:', np.sqrt(metrics.mean_squared_error(y_test,test_pred)))\n"
      ]
    },
    {
      "cell_type": "markdown",
      "id": "fddca513",
      "metadata": {
        "id": "fddca513"
      },
      "source": [
        "## Ridge Regression"
      ]
    },
    {
      "cell_type": "code",
      "execution_count": null,
      "id": "b33d387e",
      "metadata": {
        "id": "b33d387e"
      },
      "outputs": [],
      "source": [
        "cv = RepeatedKFold(n_splits=10, n_repeats=3, random_state=1)"
      ]
    },
    {
      "cell_type": "code",
      "execution_count": null,
      "id": "56cdaddc",
      "metadata": {
        "id": "56cdaddc"
      },
      "outputs": [],
      "source": [
        "#define model\n",
        "model = RidgeCV(alphas= arange(0, 1, 0.01), cv=cv, scoring='neg_mean_absolute_error')"
      ]
    },
    {
      "cell_type": "code",
      "execution_count": null,
      "id": "1087a7cd",
      "metadata": {
        "id": "1087a7cd"
      },
      "outputs": [],
      "source": [
        "x = df.drop('user_rating', axis=1)\n",
        "y = df['user_rating']\n",
        "x_train, x_test, y_train, y_test = train_test_split(x, y, test_size = 0.2, random_state=42)\n",
        "train = pd.concat([x_train, y_train], axis=1)\n",
        "X = train.drop('user_rating', axis=1)\n",
        "Y = train['user_rating']\n",
        "\n",
        "# Application of variable selection\n",
        "X = X.drop(['12+','17+','4+','9+','Minor','vpp_lic','Patch'],axis=1)\n",
        "x_test = x_test.drop(['12+','17+','4+','9+','Minor','vpp_lic','Patch'],axis=1)\n"
      ]
    },
    {
      "cell_type": "code",
      "execution_count": null,
      "id": "6c18f590",
      "metadata": {
        "scrolled": true,
        "id": "6c18f590",
        "outputId": "fc3f5cb5-0d26-47ae-b654-33600a5f2f95"
      },
      "outputs": [
        {
          "name": "stderr",
          "output_type": "stream",
          "text": [
            "C:\\Users\\ACER\\anaconda3\\lib\\site-packages\\sklearn\\linear_model\\_ridge.py:147: LinAlgWarning: Ill-conditioned matrix (rcond=1.35015e-26): result may not be accurate.\n",
            "  return linalg.solve(A, Xy, sym_pos=True,\n",
            "C:\\Users\\ACER\\anaconda3\\lib\\site-packages\\sklearn\\linear_model\\_ridge.py:147: LinAlgWarning: Ill-conditioned matrix (rcond=1.40006e-26): result may not be accurate.\n",
            "  return linalg.solve(A, Xy, sym_pos=True,\n",
            "C:\\Users\\ACER\\anaconda3\\lib\\site-packages\\sklearn\\linear_model\\_ridge.py:147: LinAlgWarning: Ill-conditioned matrix (rcond=1.76359e-26): result may not be accurate.\n",
            "  return linalg.solve(A, Xy, sym_pos=True,\n",
            "C:\\Users\\ACER\\anaconda3\\lib\\site-packages\\sklearn\\linear_model\\_ridge.py:147: LinAlgWarning: Ill-conditioned matrix (rcond=5.71602e-26): result may not be accurate.\n",
            "  return linalg.solve(A, Xy, sym_pos=True,\n",
            "C:\\Users\\ACER\\anaconda3\\lib\\site-packages\\sklearn\\linear_model\\_ridge.py:147: LinAlgWarning: Ill-conditioned matrix (rcond=1.37749e-27): result may not be accurate.\n",
            "  return linalg.solve(A, Xy, sym_pos=True,\n",
            "C:\\Users\\ACER\\anaconda3\\lib\\site-packages\\sklearn\\linear_model\\_ridge.py:147: LinAlgWarning: Ill-conditioned matrix (rcond=3.10456e-26): result may not be accurate.\n",
            "  return linalg.solve(A, Xy, sym_pos=True,\n",
            "C:\\Users\\ACER\\anaconda3\\lib\\site-packages\\sklearn\\linear_model\\_ridge.py:147: LinAlgWarning: Ill-conditioned matrix (rcond=3.3308e-27): result may not be accurate.\n",
            "  return linalg.solve(A, Xy, sym_pos=True,\n",
            "C:\\Users\\ACER\\anaconda3\\lib\\site-packages\\sklearn\\linear_model\\_ridge.py:147: LinAlgWarning: Ill-conditioned matrix (rcond=8.9837e-26): result may not be accurate.\n",
            "  return linalg.solve(A, Xy, sym_pos=True,\n",
            "C:\\Users\\ACER\\anaconda3\\lib\\site-packages\\sklearn\\linear_model\\_ridge.py:147: LinAlgWarning: Ill-conditioned matrix (rcond=1.03016e-25): result may not be accurate.\n",
            "  return linalg.solve(A, Xy, sym_pos=True,\n",
            "C:\\Users\\ACER\\anaconda3\\lib\\site-packages\\sklearn\\linear_model\\_ridge.py:147: LinAlgWarning: Ill-conditioned matrix (rcond=5.29368e-26): result may not be accurate.\n",
            "  return linalg.solve(A, Xy, sym_pos=True,\n",
            "C:\\Users\\ACER\\anaconda3\\lib\\site-packages\\sklearn\\linear_model\\_ridge.py:147: LinAlgWarning: Ill-conditioned matrix (rcond=5.13988e-26): result may not be accurate.\n",
            "  return linalg.solve(A, Xy, sym_pos=True,\n",
            "C:\\Users\\ACER\\anaconda3\\lib\\site-packages\\sklearn\\linear_model\\_ridge.py:147: LinAlgWarning: Ill-conditioned matrix (rcond=1.43889e-27): result may not be accurate.\n",
            "  return linalg.solve(A, Xy, sym_pos=True,\n",
            "C:\\Users\\ACER\\anaconda3\\lib\\site-packages\\sklearn\\linear_model\\_ridge.py:147: LinAlgWarning: Ill-conditioned matrix (rcond=5.75455e-26): result may not be accurate.\n",
            "  return linalg.solve(A, Xy, sym_pos=True,\n",
            "C:\\Users\\ACER\\anaconda3\\lib\\site-packages\\sklearn\\linear_model\\_ridge.py:147: LinAlgWarning: Ill-conditioned matrix (rcond=8.21631e-26): result may not be accurate.\n",
            "  return linalg.solve(A, Xy, sym_pos=True,\n",
            "C:\\Users\\ACER\\anaconda3\\lib\\site-packages\\sklearn\\linear_model\\_ridge.py:147: LinAlgWarning: Ill-conditioned matrix (rcond=4.15232e-26): result may not be accurate.\n",
            "  return linalg.solve(A, Xy, sym_pos=True,\n",
            "C:\\Users\\ACER\\anaconda3\\lib\\site-packages\\sklearn\\linear_model\\_ridge.py:147: LinAlgWarning: Ill-conditioned matrix (rcond=9.89928e-26): result may not be accurate.\n",
            "  return linalg.solve(A, Xy, sym_pos=True,\n",
            "C:\\Users\\ACER\\anaconda3\\lib\\site-packages\\sklearn\\linear_model\\_ridge.py:147: LinAlgWarning: Ill-conditioned matrix (rcond=1.9998e-26): result may not be accurate.\n",
            "  return linalg.solve(A, Xy, sym_pos=True,\n",
            "C:\\Users\\ACER\\anaconda3\\lib\\site-packages\\sklearn\\linear_model\\_ridge.py:147: LinAlgWarning: Ill-conditioned matrix (rcond=7.40151e-26): result may not be accurate.\n",
            "  return linalg.solve(A, Xy, sym_pos=True,\n"
          ]
        },
        {
          "data": {
            "text/plain": [
              "RidgeCV(alphas=array([0.  , 0.01, 0.02, 0.03, 0.04, 0.05, 0.06, 0.07, 0.08, 0.09, 0.1 ,\n",
              "       0.11, 0.12, 0.13, 0.14, 0.15, 0.16, 0.17, 0.18, 0.19, 0.2 , 0.21,\n",
              "       0.22, 0.23, 0.24, 0.25, 0.26, 0.27, 0.28, 0.29, 0.3 , 0.31, 0.32,\n",
              "       0.33, 0.34, 0.35, 0.36, 0.37, 0.38, 0.39, 0.4 , 0.41, 0.42, 0.43,\n",
              "       0.44, 0.45, 0.46, 0.47, 0.48, 0.49, 0.5 , 0.51, 0.52, 0.53, 0.54,\n",
              "       0.55, 0.56, 0.57, 0.58, 0.59, 0.6 , 0.61, 0.62, 0.63, 0.64, 0.65,\n",
              "       0.66, 0.67, 0.68, 0.69, 0.7 , 0.71, 0.72, 0.73, 0.74, 0.75, 0.76,\n",
              "       0.77, 0.78, 0.79, 0.8 , 0.81, 0.82, 0.83, 0.84, 0.85, 0.86, 0.87,\n",
              "       0.88, 0.89, 0.9 , 0.91, 0.92, 0.93, 0.94, 0.95, 0.96, 0.97, 0.98,\n",
              "       0.99]),\n",
              "        cv=RepeatedKFold(n_repeats=3, n_splits=10, random_state=1),\n",
              "        scoring='neg_mean_absolute_error')"
            ]
          },
          "execution_count": 854,
          "metadata": {},
          "output_type": "execute_result"
        }
      ],
      "source": [
        "model.fit(X,Y)"
      ]
    },
    {
      "cell_type": "code",
      "execution_count": null,
      "id": "9faa70da",
      "metadata": {
        "id": "9faa70da",
        "outputId": "5c4d134d-0150-4c1a-c6db-5abf9059f9de"
      },
      "outputs": [
        {
          "name": "stdout",
          "output_type": "stream",
          "text": [
            "0.99\n"
          ]
        }
      ],
      "source": [
        "print(model.alpha_)"
      ]
    },
    {
      "cell_type": "code",
      "execution_count": null,
      "id": "8782c51c",
      "metadata": {
        "id": "8782c51c"
      },
      "outputs": [],
      "source": [
        "ridge_predictions = model.predict(X)"
      ]
    },
    {
      "cell_type": "code",
      "execution_count": null,
      "id": "10fbeabc",
      "metadata": {
        "scrolled": true,
        "id": "10fbeabc",
        "outputId": "2777f481-3b83-46a0-9e41-8015cb6b436b"
      },
      "outputs": [
        {
          "data": {
            "text/plain": [
              "<matplotlib.collections.PathCollection at 0x19c68560460>"
            ]
          },
          "execution_count": 857,
          "metadata": {},
          "output_type": "execute_result"
        },
        {
          "data": {
            "image/png": "[encoded data removed]",
            "text/plain": [
              "<Figure size 432x288 with 1 Axes>"
            ]
          },
          "metadata": {
            "needs_background": "light"
          },
          "output_type": "display_data"
        }
      ],
      "source": [
        "plt.scatter(y_train,ridge_predictions)"
      ]
    },
    {
      "cell_type": "code",
      "execution_count": null,
      "id": "e876daa2",
      "metadata": {
        "scrolled": false,
        "id": "e876daa2",
        "outputId": "6ec1b883-28d1-4ecd-ab2d-b8b64f4e8948"
      },
      "outputs": [
        {
          "name": "stdout",
          "output_type": "stream",
          "text": [
            "MAE: 0.6353961010015022\n",
            "MSE: 0.8980509832733458\n",
            "RMSE: 0.947655519307172\n"
          ]
        }
      ],
      "source": [
        "from sklearn import metrics\n",
        "print('MAE:', metrics.mean_absolute_error(y_train, ridge_predictions))\n",
        "print('MSE:', metrics.mean_squared_error(y_train, ridge_predictions))\n",
        "print('RMSE:', np.sqrt(metrics.mean_squared_error(y_train, ridge_predictions)))"
      ]
    },
    {
      "cell_type": "code",
      "execution_count": null,
      "id": "f9fd260d",
      "metadata": {
        "id": "f9fd260d",
        "outputId": "3ff987b9-8cf1-4816-c307-e409c155461b"
      },
      "outputs": [
        {
          "name": "stdout",
          "output_type": "stream",
          "text": [
            "MAE: 0.6508449964558832\n",
            "MSE: 0.9326123015922629\n",
            "RMSE: 0.9657185416011557\n"
          ]
        }
      ],
      "source": [
        "# Prediction for the test set \n",
        "ridge_test_predictions = model.predict(x_test)\n",
        "print('MAE:', metrics.mean_absolute_error(y_test, ridge_test_predictions))\n",
        "print('MSE:', metrics.mean_squared_error(y_test,ridge_test_predictions))\n",
        "print('RMSE:', np.sqrt(metrics.mean_squared_error(y_test, ridge_test_predictions)))"
      ]
    },
    {
      "cell_type": "markdown",
      "id": "3b49dd35",
      "metadata": {
        "id": "3b49dd35"
      },
      "source": [
        "## Lasso Regression\n"
      ]
    },
    {
      "cell_type": "code",
      "execution_count": null,
      "id": "a9fe81a1",
      "metadata": {
        "id": "a9fe81a1",
        "outputId": "09f92c8f-c97f-4c90-b24c-88bd5f051ab1"
      },
      "outputs": [
        {
          "name": "stderr",
          "output_type": "stream",
          "text": [
            "C:\\Users\\ACER\\anaconda3\\lib\\site-packages\\sklearn\\linear_model\\_coordinate_descent.py:526: UserWarning: Coordinate descent with alpha=0 may lead to unexpected results and is discouraged.\n",
            "  model = cd_fast.enet_coordinate_descent_gram(\n",
            "C:\\Users\\ACER\\anaconda3\\lib\\site-packages\\sklearn\\linear_model\\_coordinate_descent.py:526: ConvergenceWarning: Objective did not converge. You might want to increase the number of iterations. Duality gap: 2367.0749099113928, tolerance: 1.1958204690214242\n",
            "  model = cd_fast.enet_coordinate_descent_gram(\n",
            "C:\\Users\\ACER\\anaconda3\\lib\\site-packages\\sklearn\\linear_model\\_coordinate_descent.py:526: UserWarning: Coordinate descent with alpha=0 may lead to unexpected results and is discouraged.\n",
            "  model = cd_fast.enet_coordinate_descent_gram(\n",
            "C:\\Users\\ACER\\anaconda3\\lib\\site-packages\\sklearn\\linear_model\\_coordinate_descent.py:526: ConvergenceWarning: Objective did not converge. You might want to increase the number of iterations. Duality gap: 2321.0625417526217, tolerance: 1.1741454352441612\n",
            "  model = cd_fast.enet_coordinate_descent_gram(\n",
            "C:\\Users\\ACER\\anaconda3\\lib\\site-packages\\sklearn\\linear_model\\_coordinate_descent.py:526: UserWarning: Coordinate descent with alpha=0 may lead to unexpected results and is discouraged.\n",
            "  model = cd_fast.enet_coordinate_descent_gram(\n",
            "C:\\Users\\ACER\\anaconda3\\lib\\site-packages\\sklearn\\linear_model\\_coordinate_descent.py:526: UserWarning: Coordinate descent with alpha=0 may lead to unexpected results and is discouraged.\n",
            "  model = cd_fast.enet_coordinate_descent_gram(\n",
            "C:\\Users\\ACER\\anaconda3\\lib\\site-packages\\sklearn\\linear_model\\_coordinate_descent.py:526: UserWarning: Coordinate descent with alpha=0 may lead to unexpected results and is discouraged.\n",
            "  model = cd_fast.enet_coordinate_descent_gram(\n",
            "C:\\Users\\ACER\\anaconda3\\lib\\site-packages\\sklearn\\linear_model\\_coordinate_descent.py:526: ConvergenceWarning: Objective did not converge. You might want to increase the number of iterations. Duality gap: 2324.2051998937623, tolerance: 1.1832974908318858\n",
            "  model = cd_fast.enet_coordinate_descent_gram(\n",
            "C:\\Users\\ACER\\anaconda3\\lib\\site-packages\\sklearn\\linear_model\\_coordinate_descent.py:526: ConvergenceWarning: Objective did not converge. You might want to increase the number of iterations. Duality gap: 2325.9350320071253, tolerance: 1.2006422505307859\n",
            "  model = cd_fast.enet_coordinate_descent_gram(\n",
            "C:\\Users\\ACER\\anaconda3\\lib\\site-packages\\sklearn\\linear_model\\_coordinate_descent.py:526: UserWarning: Coordinate descent with alpha=0 may lead to unexpected results and is discouraged.\n",
            "  model = cd_fast.enet_coordinate_descent_gram(\n",
            "C:\\Users\\ACER\\anaconda3\\lib\\site-packages\\sklearn\\linear_model\\_coordinate_descent.py:526: ConvergenceWarning: Objective did not converge. You might want to increase the number of iterations. Duality gap: 2295.417279786817, tolerance: 1.1916573055394715\n",
            "  model = cd_fast.enet_coordinate_descent_gram(\n",
            "C:\\Users\\ACER\\anaconda3\\lib\\site-packages\\sklearn\\linear_model\\_coordinate_descent.py:526: ConvergenceWarning: Objective did not converge. You might want to increase the number of iterations. Duality gap: 2328.596637297491, tolerance: 1.1768933121019105\n",
            "  model = cd_fast.enet_coordinate_descent_gram(\n",
            "C:\\Users\\ACER\\anaconda3\\lib\\site-packages\\sklearn\\linear_model\\_coordinate_descent.py:526: UserWarning: Coordinate descent with alpha=0 may lead to unexpected results and is discouraged.\n",
            "  model = cd_fast.enet_coordinate_descent_gram(\n",
            "C:\\Users\\ACER\\anaconda3\\lib\\site-packages\\sklearn\\linear_model\\_coordinate_descent.py:526: ConvergenceWarning: Objective did not converge. You might want to increase the number of iterations. Duality gap: 2296.814226361442, tolerance: 1.1743662485526825\n",
            "  model = cd_fast.enet_coordinate_descent_gram(\n",
            "C:\\Users\\ACER\\anaconda3\\lib\\site-packages\\sklearn\\linear_model\\_coordinate_descent.py:526: UserWarning: Coordinate descent with alpha=0 may lead to unexpected results and is discouraged.\n",
            "  model = cd_fast.enet_coordinate_descent_gram(\n",
            "C:\\Users\\ACER\\anaconda3\\lib\\site-packages\\sklearn\\linear_model\\_coordinate_descent.py:526: ConvergenceWarning: Objective did not converge. You might want to increase the number of iterations. Duality gap: 2329.3612464618673, tolerance: 1.1988324261725543\n",
            "  model = cd_fast.enet_coordinate_descent_gram(\n",
            "C:\\Users\\ACER\\anaconda3\\lib\\site-packages\\sklearn\\linear_model\\_coordinate_descent.py:526: UserWarning: Coordinate descent with alpha=0 may lead to unexpected results and is discouraged.\n",
            "  model = cd_fast.enet_coordinate_descent_gram(\n",
            "C:\\Users\\ACER\\anaconda3\\lib\\site-packages\\sklearn\\linear_model\\_coordinate_descent.py:526: ConvergenceWarning: Objective did not converge. You might want to increase the number of iterations. Duality gap: 2326.827270495084, tolerance: 1.1869222742184486\n",
            "  model = cd_fast.enet_coordinate_descent_gram(\n",
            "C:\\Users\\ACER\\anaconda3\\lib\\site-packages\\sklearn\\linear_model\\_coordinate_descent.py:526: UserWarning: Coordinate descent with alpha=0 may lead to unexpected results and is discouraged.\n",
            "  model = cd_fast.enet_coordinate_descent_gram(\n",
            "C:\\Users\\ACER\\anaconda3\\lib\\site-packages\\sklearn\\linear_model\\_coordinate_descent.py:526: ConvergenceWarning: Objective did not converge. You might want to increase the number of iterations. Duality gap: 2330.9185445516105, tolerance: 1.1919221289326383\n",
            "  model = cd_fast.enet_coordinate_descent_gram(\n",
            "C:\\Users\\ACER\\anaconda3\\lib\\site-packages\\sklearn\\linear_model\\_coordinate_descent.py:526: UserWarning: Coordinate descent with alpha=0 may lead to unexpected results and is discouraged.\n",
            "  model = cd_fast.enet_coordinate_descent_gram(\n",
            "C:\\Users\\ACER\\anaconda3\\lib\\site-packages\\sklearn\\linear_model\\_coordinate_descent.py:526: UserWarning: Coordinate descent with alpha=0 may lead to unexpected results and is discouraged.\n",
            "  model = cd_fast.enet_coordinate_descent_gram(\n",
            "C:\\Users\\ACER\\anaconda3\\lib\\site-packages\\sklearn\\linear_model\\_coordinate_descent.py:526: ConvergenceWarning: Objective did not converge. You might want to increase the number of iterations. Duality gap: 2329.608982628305, tolerance: 1.1943177923581632\n",
            "  model = cd_fast.enet_coordinate_descent_gram(\n",
            "C:\\Users\\ACER\\anaconda3\\lib\\site-packages\\sklearn\\linear_model\\_coordinate_descent.py:526: UserWarning: Coordinate descent with alpha=0 may lead to unexpected results and is discouraged.\n",
            "  model = cd_fast.enet_coordinate_descent_gram(\n",
            "C:\\Users\\ACER\\anaconda3\\lib\\site-packages\\sklearn\\linear_model\\_coordinate_descent.py:526: ConvergenceWarning: Objective did not converge. You might want to increase the number of iterations. Duality gap: 2320.9740999018804, tolerance: 1.1746573055394713\n",
            "  model = cd_fast.enet_coordinate_descent_gram(\n",
            "C:\\Users\\ACER\\anaconda3\\lib\\site-packages\\sklearn\\linear_model\\_coordinate_descent.py:526: ConvergenceWarning: Objective did not converge. You might want to increase the number of iterations. Duality gap: 2350.643491114545, tolerance: 1.1930117062343173\n",
            "  model = cd_fast.enet_coordinate_descent_gram(\n",
            "C:\\Users\\ACER\\anaconda3\\lib\\site-packages\\sklearn\\linear_model\\_coordinate_descent.py:526: UserWarning: Coordinate descent with alpha=0 may lead to unexpected results and is discouraged.\n",
            "  model = cd_fast.enet_coordinate_descent_gram(\n",
            "C:\\Users\\ACER\\anaconda3\\lib\\site-packages\\sklearn\\linear_model\\_coordinate_descent.py:526: UserWarning: Coordinate descent with alpha=0 may lead to unexpected results and is discouraged.\n",
            "  model = cd_fast.enet_coordinate_descent_gram(\n",
            "C:\\Users\\ACER\\anaconda3\\lib\\site-packages\\sklearn\\linear_model\\_coordinate_descent.py:526: ConvergenceWarning: Objective did not converge. You might want to increase the number of iterations. Duality gap: 2292.3275036567866, tolerance: 1.1759608569774178\n",
            "  model = cd_fast.enet_coordinate_descent_gram(\n",
            "C:\\Users\\ACER\\anaconda3\\lib\\site-packages\\sklearn\\linear_model\\_coordinate_descent.py:526: ConvergenceWarning: Objective did not converge. You might want to increase the number of iterations. Duality gap: 2329.3161199399137, tolerance: 1.181791324068712\n",
            "  model = cd_fast.enet_coordinate_descent_gram(\n",
            "C:\\Users\\ACER\\anaconda3\\lib\\site-packages\\sklearn\\linear_model\\_coordinate_descent.py:526: UserWarning: Coordinate descent with alpha=0 may lead to unexpected results and is discouraged.\n",
            "  model = cd_fast.enet_coordinate_descent_gram(\n",
            "C:\\Users\\ACER\\anaconda3\\lib\\site-packages\\sklearn\\linear_model\\_coordinate_descent.py:526: ConvergenceWarning: Objective did not converge. You might want to increase the number of iterations. Duality gap: 2306.849692129227, tolerance: 1.1837906871260373\n",
            "  model = cd_fast.enet_coordinate_descent_gram(\n",
            "C:\\Users\\ACER\\anaconda3\\lib\\site-packages\\sklearn\\linear_model\\_coordinate_descent.py:526: UserWarning: Coordinate descent with alpha=0 may lead to unexpected results and is discouraged.\n",
            "  model = cd_fast.enet_coordinate_descent_gram(\n"
          ]
        },
        {
          "name": "stderr",
          "output_type": "stream",
          "text": [
            "C:\\Users\\ACER\\anaconda3\\lib\\site-packages\\sklearn\\linear_model\\_coordinate_descent.py:526: UserWarning: Coordinate descent with alpha=0 may lead to unexpected results and is discouraged.\n",
            "  model = cd_fast.enet_coordinate_descent_gram(\n",
            "C:\\Users\\ACER\\anaconda3\\lib\\site-packages\\sklearn\\linear_model\\_coordinate_descent.py:526: ConvergenceWarning: Objective did not converge. You might want to increase the number of iterations. Duality gap: 2320.961487831886, tolerance: 1.1850068037058488\n",
            "  model = cd_fast.enet_coordinate_descent_gram(\n",
            "C:\\Users\\ACER\\anaconda3\\lib\\site-packages\\sklearn\\linear_model\\_coordinate_descent.py:526: ConvergenceWarning: Objective did not converge. You might want to increase the number of iterations. Duality gap: 2315.7923005453913, tolerance: 1.2053810739096873\n",
            "  model = cd_fast.enet_coordinate_descent_gram(\n",
            "C:\\Users\\ACER\\anaconda3\\lib\\site-packages\\sklearn\\linear_model\\_coordinate_descent.py:526: UserWarning: Coordinate descent with alpha=0 may lead to unexpected results and is discouraged.\n",
            "  model = cd_fast.enet_coordinate_descent_gram(\n",
            "C:\\Users\\ACER\\anaconda3\\lib\\site-packages\\sklearn\\linear_model\\_coordinate_descent.py:526: UserWarning: Coordinate descent with alpha=0 may lead to unexpected results and is discouraged.\n",
            "  model = cd_fast.enet_coordinate_descent_gram(\n",
            "C:\\Users\\ACER\\anaconda3\\lib\\site-packages\\sklearn\\linear_model\\_coordinate_descent.py:526: ConvergenceWarning: Objective did not converge. You might want to increase the number of iterations. Duality gap: 2349.617497159181, tolerance: 1.1860101360478577\n",
            "  model = cd_fast.enet_coordinate_descent_gram(\n",
            "C:\\Users\\ACER\\anaconda3\\lib\\site-packages\\sklearn\\linear_model\\_coordinate_descent.py:526: ConvergenceWarning: Objective did not converge. You might want to increase the number of iterations. Duality gap: 2328.1192922995624, tolerance: 1.1994182362022388\n",
            "  model = cd_fast.enet_coordinate_descent_gram(\n",
            "C:\\Users\\ACER\\anaconda3\\lib\\site-packages\\sklearn\\linear_model\\_coordinate_descent.py:526: UserWarning: Coordinate descent with alpha=0 may lead to unexpected results and is discouraged.\n",
            "  model = cd_fast.enet_coordinate_descent_gram(\n",
            "C:\\Users\\ACER\\anaconda3\\lib\\site-packages\\sklearn\\linear_model\\_coordinate_descent.py:526: UserWarning: Coordinate descent with alpha=0 may lead to unexpected results and is discouraged.\n",
            "  model = cd_fast.enet_coordinate_descent_gram(\n",
            "C:\\Users\\ACER\\anaconda3\\lib\\site-packages\\sklearn\\linear_model\\_coordinate_descent.py:526: ConvergenceWarning: Objective did not converge. You might want to increase the number of iterations. Duality gap: 2332.0321664137036, tolerance: 1.1932573055394715\n",
            "  model = cd_fast.enet_coordinate_descent_gram(\n",
            "C:\\Users\\ACER\\anaconda3\\lib\\site-packages\\sklearn\\linear_model\\_coordinate_descent.py:526: ConvergenceWarning: Objective did not converge. You might want to increase the number of iterations. Duality gap: 2314.3373957333397, tolerance: 1.1973107508203051\n",
            "  model = cd_fast.enet_coordinate_descent_gram(\n",
            "C:\\Users\\ACER\\anaconda3\\lib\\site-packages\\sklearn\\linear_model\\_coordinate_descent.py:526: UserWarning: Coordinate descent with alpha=0 may lead to unexpected results and is discouraged.\n",
            "  model = cd_fast.enet_coordinate_descent_gram(\n",
            "C:\\Users\\ACER\\anaconda3\\lib\\site-packages\\sklearn\\linear_model\\_coordinate_descent.py:526: ConvergenceWarning: Objective did not converge. You might want to increase the number of iterations. Duality gap: 2303.705437480532, tolerance: 1.1796789615904268\n",
            "  model = cd_fast.enet_coordinate_descent_gram(\n",
            "C:\\Users\\ACER\\anaconda3\\lib\\site-packages\\sklearn\\linear_model\\_coordinate_descent.py:526: UserWarning: Coordinate descent with alpha=0 may lead to unexpected results and is discouraged.\n",
            "  model = cd_fast.enet_coordinate_descent_gram(\n",
            "C:\\Users\\ACER\\anaconda3\\lib\\site-packages\\sklearn\\linear_model\\_coordinate_descent.py:526: ConvergenceWarning: Objective did not converge. You might want to increase the number of iterations. Duality gap: 2321.9238207780154, tolerance: 1.180290600270218\n",
            "  model = cd_fast.enet_coordinate_descent_gram(\n",
            "C:\\Users\\ACER\\anaconda3\\lib\\site-packages\\sklearn\\linear_model\\_coordinate_descent.py:526: UserWarning: Coordinate descent with alpha=0 may lead to unexpected results and is discouraged.\n",
            "  model = cd_fast.enet_coordinate_descent_gram(\n",
            "C:\\Users\\ACER\\anaconda3\\lib\\site-packages\\sklearn\\linear_model\\_coordinate_descent.py:526: UserWarning: Coordinate descent with alpha=0 may lead to unexpected results and is discouraged.\n",
            "  model = cd_fast.enet_coordinate_descent_gram(\n",
            "C:\\Users\\ACER\\anaconda3\\lib\\site-packages\\sklearn\\linear_model\\_coordinate_descent.py:526: UserWarning: Coordinate descent with alpha=0 may lead to unexpected results and is discouraged.\n",
            "  model = cd_fast.enet_coordinate_descent_gram(\n",
            "C:\\Users\\ACER\\anaconda3\\lib\\site-packages\\sklearn\\linear_model\\_coordinate_descent.py:526: ConvergenceWarning: Objective did not converge. You might want to increase the number of iterations. Duality gap: 2324.310089288093, tolerance: 1.1775069002123142\n",
            "  model = cd_fast.enet_coordinate_descent_gram(\n",
            "C:\\Users\\ACER\\anaconda3\\lib\\site-packages\\sklearn\\linear_model\\_coordinate_descent.py:526: ConvergenceWarning: Objective did not converge. You might want to increase the number of iterations. Duality gap: 2339.197359732314, tolerance: 1.1932723315962166\n",
            "  model = cd_fast.enet_coordinate_descent_gram(\n",
            "C:\\Users\\ACER\\anaconda3\\lib\\site-packages\\sklearn\\linear_model\\_coordinate_descent.py:526: UserWarning: Coordinate descent with alpha=0 may lead to unexpected results and is discouraged.\n",
            "  model = cd_fast.enet_coordinate_descent_gram(\n",
            "C:\\Users\\ACER\\anaconda3\\lib\\site-packages\\sklearn\\linear_model\\_coordinate_descent.py:526: ConvergenceWarning: Objective did not converge. You might want to increase the number of iterations. Duality gap: 2343.6355364794717, tolerance: 1.1893181335649492\n",
            "  model = cd_fast.enet_coordinate_descent_gram(\n",
            "C:\\Users\\ACER\\anaconda3\\lib\\site-packages\\sklearn\\linear_model\\_coordinate_descent.py:526: ConvergenceWarning: Objective did not converge. You might want to increase the number of iterations. Duality gap: 2322.066793515337, tolerance: 1.1802643573909686\n",
            "  model = cd_fast.enet_coordinate_descent_gram(\n",
            "C:\\Users\\ACER\\anaconda3\\lib\\site-packages\\sklearn\\linear_model\\_coordinate_descent.py:526: UserWarning: Coordinate descent with alpha=0 may lead to unexpected results and is discouraged.\n",
            "  model = cd_fast.enet_coordinate_descent_gram(\n",
            "C:\\Users\\ACER\\anaconda3\\lib\\site-packages\\sklearn\\linear_model\\_coordinate_descent.py:526: ConvergenceWarning: Objective did not converge. You might want to increase the number of iterations. Duality gap: 2316.9685931359554, tolerance: 1.1961522385179464\n",
            "  model = cd_fast.enet_coordinate_descent_gram(\n",
            "C:\\Users\\ACER\\anaconda3\\lib\\site-packages\\sklearn\\linear_model\\_coordinate_descent.py:526: UserWarning: Coordinate descent with alpha=0 may lead to unexpected results and is discouraged.\n",
            "  model = cd_fast.enet_coordinate_descent_gram(\n",
            "C:\\Users\\ACER\\anaconda3\\lib\\site-packages\\sklearn\\linear_model\\_coordinate_descent.py:526: ConvergenceWarning: Objective did not converge. You might want to increase the number of iterations. Duality gap: 2326.081790030644, tolerance: 1.18987057603242\n",
            "  model = cd_fast.enet_coordinate_descent_gram(\n",
            "C:\\Users\\ACER\\anaconda3\\lib\\site-packages\\sklearn\\linear_model\\_coordinate_descent.py:1349: UserWarning: With alpha=0, this algorithm does not converge well. You are advised to use the LinearRegression estimator\n",
            "  model.fit(X, y)\n",
            "C:\\Users\\ACER\\anaconda3\\lib\\site-packages\\sklearn\\linear_model\\_coordinate_descent.py:530: UserWarning: Coordinate descent with no regularization may lead to unexpected results and is discouraged.\n",
            "  model = cd_fast.enet_coordinate_descent(\n",
            "C:\\Users\\ACER\\anaconda3\\lib\\site-packages\\sklearn\\linear_model\\_coordinate_descent.py:530: ConvergenceWarning: Objective did not converge. You might want to increase the number of iterations. Duality gap: 2583.628524755888, tolerance: 1.3196766631926344\n",
            "  model = cd_fast.enet_coordinate_descent(\n"
          ]
        },
        {
          "data": {
            "text/plain": [
              "LassoCV(alphas=array([0.  , 0.01, 0.02, 0.03, 0.04, 0.05, 0.06, 0.07, 0.08, 0.09, 0.1 ,\n",
              "       0.11, 0.12, 0.13, 0.14, 0.15, 0.16, 0.17, 0.18, 0.19, 0.2 , 0.21,\n",
              "       0.22, 0.23, 0.24, 0.25, 0.26, 0.27, 0.28, 0.29, 0.3 , 0.31, 0.32,\n",
              "       0.33, 0.34, 0.35, 0.36, 0.37, 0.38, 0.39, 0.4 , 0.41, 0.42, 0.43,\n",
              "       0.44, 0.45, 0.46, 0.47, 0.48, 0.49, 0.5 , 0.51, 0.52, 0.53, 0.54,\n",
              "       0.55, 0.56, 0.57, 0.58, 0.59, 0.6 , 0.61, 0.62, 0.63, 0.64, 0.65,\n",
              "       0.66, 0.67, 0.68, 0.69, 0.7 , 0.71, 0.72, 0.73, 0.74, 0.75, 0.76,\n",
              "       0.77, 0.78, 0.79, 0.8 , 0.81, 0.82, 0.83, 0.84, 0.85, 0.86, 0.87,\n",
              "       0.88, 0.89, 0.9 , 0.91, 0.92, 0.93, 0.94, 0.95, 0.96, 0.97, 0.98,\n",
              "       0.99]),\n",
              "        cv=RepeatedKFold(n_repeats=3, n_splits=10, random_state=1), n_jobs=-1)"
            ]
          },
          "execution_count": 860,
          "metadata": {},
          "output_type": "execute_result"
        }
      ],
      "source": [
        "#fit model\n",
        "x = df.drop('user_rating', axis=1)\n",
        "y = df['user_rating']\n",
        "x_train, x_test, y_train, y_test = train_test_split(x, y, test_size = 0.2, random_state=42)\n",
        "train = pd.concat([x_train, y_train], axis=1)\n",
        "X = train.drop(['user_rating','vpp_lic','Patch'], axis=1)\n",
        "Y = train['user_rating']\n",
        "x_test = x_test.drop(['vpp_lic','Patch'], axis=1)\n",
        "\n",
        "# Since Lasso can work as a varible selection technique as well we don't use variable selection for this.\n",
        "model = LassoCV(alphas=arange(0, 1, 0.01), cv=cv, n_jobs=-1)\n",
        "model.fit(X,Y)"
      ]
    },
    {
      "cell_type": "code",
      "execution_count": null,
      "id": "760fa5e8",
      "metadata": {
        "id": "760fa5e8",
        "outputId": "360c798c-54d4-4a9a-ade1-7d6e3fab2c4e"
      },
      "outputs": [
        {
          "name": "stdout",
          "output_type": "stream",
          "text": [
            "0.0\n"
          ]
        }
      ],
      "source": [
        "#display lambda that produced the lowest test MSE\n",
        "print(model.alpha_)"
      ]
    },
    {
      "cell_type": "code",
      "execution_count": null,
      "id": "59683f5e",
      "metadata": {
        "id": "59683f5e"
      },
      "outputs": [],
      "source": [
        "#Predictions using Lasso for the trest set\n",
        "lasso_predictions = model.predict(X)"
      ]
    },
    {
      "cell_type": "code",
      "execution_count": null,
      "id": "81ed9bcd",
      "metadata": {
        "id": "81ed9bcd",
        "outputId": "ac04d282-42c4-4204-b8c0-9e87ff79b2c6"
      },
      "outputs": [
        {
          "name": "stdout",
          "output_type": "stream",
          "text": [
            "MAE: 0.6352936963354693\n",
            "MSE: 0.897560717302723\n",
            "RMSE: 0.947396810899595\n"
          ]
        }
      ],
      "source": [
        "from sklearn import metrics\n",
        "print('MAE:', metrics.mean_absolute_error(y_train, lasso_predictions))\n",
        "print('MSE:', metrics.mean_squared_error(y_train, lasso_predictions))\n",
        "print('RMSE:', np.sqrt(metrics.mean_squared_error(y_train, lasso_predictions)))"
      ]
    },
    {
      "cell_type": "code",
      "execution_count": null,
      "id": "bceb472f",
      "metadata": {
        "id": "bceb472f",
        "outputId": "d8d9a44c-3ebf-4f2c-9cab-738a71703ca1"
      },
      "outputs": [
        {
          "name": "stdout",
          "output_type": "stream",
          "text": [
            "MAE: 0.6503231961471373\n",
            "MSE: 0.9320681334952511\n",
            "RMSE: 0.965436757895229\n"
          ]
        }
      ],
      "source": [
        "#Predictions for the test set using Lasso Regression\n",
        "lasso_test_predictions=model.predict(x_test)\n",
        "print('MAE:', metrics.mean_absolute_error(y_test,lasso_test_predictions))\n",
        "print('MSE:', metrics.mean_squared_error(y_test, lasso_test_predictions))\n",
        "print('RMSE:', np.sqrt(metrics.mean_squared_error(y_test, lasso_test_predictions)))"
      ]
    },
    {
      "cell_type": "markdown",
      "id": "9f978d75",
      "metadata": {
        "id": "9f978d75"
      },
      "source": [
        "## Decision Tree"
      ]
    },
    {
      "cell_type": "code",
      "execution_count": null,
      "id": "1caf7829",
      "metadata": {
        "id": "1caf7829"
      },
      "outputs": [],
      "source": [
        "x = df.drop('user_rating', axis=1)\n",
        "y = df['user_rating']\n",
        "x_train, x_test, y_train, y_test = train_test_split(x, y, test_size = 0.2, random_state=42)\n",
        "train = pd.concat([x_train, y_train], axis=1)\n",
        "X = train.drop(['user_rating','vpp_lic','Patch'], axis=1)\n",
        "Y = train['user_rating']\n",
        "x_test = x_test.drop(['vpp_lic','Patch'], axis=1)\n"
      ]
    },
    {
      "cell_type": "code",
      "execution_count": null,
      "id": "da3d627a",
      "metadata": {
        "id": "da3d627a"
      },
      "outputs": [],
      "source": [
        "dtree = DecisionTreeRegressor(max_leaf_nodes=85)\n",
        "dtree.fit(X,Y)\n",
        "dt_predictions = dtree.predict(X)\n",
        "# Decison tree it self can work as a variable selection technique"
      ]
    },
    {
      "cell_type": "markdown",
      "id": "202d530a",
      "metadata": {
        "id": "202d530a"
      },
      "source": [
        "from sklearn.tree import export_graphviz\n",
        "from sklearn.externals.six import StringIO\n",
        "from IPython.display import Image  \n",
        "import pydotplus\n",
        "\n",
        "dot_data = StringIO()\n",
        "export_graphviz(dtree, out_file=dot_data)\n",
        "graph = pydotplus.graph_from_dot_data(dot_data.getvalue())\n"
      ]
    },
    {
      "cell_type": "code",
      "execution_count": null,
      "id": "81cba885",
      "metadata": {
        "scrolled": true,
        "id": "81cba885",
        "outputId": "ce0adcfc-499b-489a-c369-535c0753c611"
      },
      "outputs": [
        {
          "name": "stdout",
          "output_type": "stream",
          "text": [
            "MAE: 0.26160706962961905\n",
            "MSE: 0.15437031970078965\n",
            "RMSE: 0.3928998850862515\n"
          ]
        }
      ],
      "source": [
        "# dt training mse\n",
        "print('MAE:', metrics.mean_absolute_error(y_train, dt_predictions))\n",
        "print('MSE:', metrics.mean_squared_error(y_train,dt_predictions))\n",
        "print('RMSE:',np.sqrt(metrics.mean_squared_error(y_train,dt_predictions)))\n"
      ]
    },
    {
      "cell_type": "code",
      "execution_count": null,
      "id": "52e705b2",
      "metadata": {
        "id": "52e705b2",
        "outputId": "e4e1c7d8-8bee-446a-a73a-8f8efaf9ac34"
      },
      "outputs": [
        {
          "name": "stdout",
          "output_type": "stream",
          "text": [
            "MAE: 0.307148860931111\n",
            "MSE: 0.24181664224423235\n",
            "RMSE: 0.4917485559147402\n"
          ]
        }
      ],
      "source": [
        "# Decion tree gets over fitted\n",
        "dt_test_predictions = dtree.predict(x_test)\n",
        "print('MAE:', metrics.mean_absolute_error(y_test, dt_test_predictions))\n",
        "print('MSE:', metrics.mean_squared_error(y_test,dt_test_predictions))\n",
        "print('RMSE:',np.sqrt(metrics.mean_squared_error(y_test,dt_test_predictions)))\n"
      ]
    },
    {
      "cell_type": "code",
      "execution_count": null,
      "id": "eb4e6fbf",
      "metadata": {
        "id": "eb4e6fbf",
        "outputId": "56553a2d-d583-4cf8-b1f1-023647eb25a5"
      },
      "outputs": [
        {
          "data": {
            "text/plain": [
              "array([0.87169884, 0.82244644, 0.8576863 , 0.83002113, 0.80119366,\n",
              "       0.82323106, 0.83938156, 0.81421875, 0.80983768, 0.82387895])"
            ]
          },
          "execution_count": 709,
          "metadata": {},
          "output_type": "execute_result"
        }
      ],
      "source": [
        "regressor = DecisionTreeRegressor(random_state=0)\n",
        "cross_val_score(regressor, X, Y, cv=10)"
      ]
    },
    {
      "cell_type": "code",
      "execution_count": null,
      "id": "03daa82a",
      "metadata": {
        "scrolled": true,
        "id": "03daa82a",
        "outputId": "e2d4336a-09bd-401c-cbc5-e1b80af1b372"
      },
      "outputs": [
        {
          "data": {
            "text/plain": [
              "['size_bytes',\n",
              " 'price',\n",
              " 'rating_count_tot',\n",
              " 'rating_count_ver',\n",
              " 'user_rating_ver',\n",
              " 'sup_devices.num',\n",
              " 'Major',\n",
              " 'Minor',\n",
              " 'ipadSc_urls.num',\n",
              " 'lang.num',\n",
              " '12+',\n",
              " '17+',\n",
              " '4+',\n",
              " '9+',\n",
              " 'Entertainment',\n",
              " 'Education',\n",
              " 'Games',\n",
              " 'Others',\n",
              " 'Shopping']"
            ]
          },
          "execution_count": 710,
          "metadata": {},
          "output_type": "execute_result"
        }
      ],
      "source": [
        "features = list(X.columns[0:])\n",
        "features"
      ]
    },
    {
      "cell_type": "code",
      "execution_count": null,
      "id": "ea42fc10",
      "metadata": {
        "id": "ea42fc10"
      },
      "outputs": [],
      "source": [
        "# visualization of the decison tree"
      ]
    },
    {
      "cell_type": "markdown",
      "id": "9fc2f14b",
      "metadata": {
        "id": "9fc2f14b"
      },
      "source": [
        "## Random Forest \n",
        "\n"
      ]
    },
    {
      "cell_type": "code",
      "execution_count": null,
      "id": "77ac379e",
      "metadata": {
        "id": "77ac379e"
      },
      "outputs": [],
      "source": [
        "x = df.drop('user_rating', axis=1)\n",
        "y = df['user_rating']\n",
        "x_train, x_test, y_train, y_test = train_test_split(x, y, test_size = 0.2, random_state=42)\n",
        "train = pd.concat([x_train, y_train], axis=1)\n",
        "X = train.drop('user_rating', axis=1)\n",
        "Y = train['user_rating']\n",
        "\n",
        "# Application of variable selection\n",
        "X = X.drop(['12+','17+','4+','9+','Minor','vpp_lic','Patch'],axis=1)\n",
        "x_test = x_test.drop(['12+','17+','4+','9+','Minor','vpp_lic','Patch'],axis=1)\n"
      ]
    },
    {
      "cell_type": "code",
      "execution_count": null,
      "id": "376382b0",
      "metadata": {
        "id": "376382b0"
      },
      "outputs": [],
      "source": [
        "# Fitting Random Forest Regression to the Training set\n",
        "regressor = RandomForestRegressor(n_estimators = 100, random_state = 0)"
      ]
    },
    {
      "cell_type": "code",
      "execution_count": null,
      "id": "ab7a1eaf",
      "metadata": {
        "id": "ab7a1eaf",
        "outputId": "9fcb346c-f16c-4da5-df7d-bdc356a9072b",
        "colab": {
          "base_uri": "https://localhost:8080/"
        }
      },
      "outputs": [
        {
          "output_type": "execute_result",
          "data": {
            "text/plain": [
              "RandomForestRegressor(random_state=0)"
            ]
          },
          "metadata": {},
          "execution_count": 31
        }
      ],
      "source": [
        "regressor.fit(X, Y)"
      ]
    },
    {
      "cell_type": "code",
      "source": [
        "X.head()"
      ],
      "metadata": {
        "colab": {
          "base_uri": "https://localhost:8080/",
          "height": 270
        },
        "id": "QiWzkhdaMAl5",
        "outputId": "1368d0da-b146-449b-8683-69aade07d63e"
      },
      "id": "QiWzkhdaMAl5",
      "execution_count": null,
      "outputs": [
        {
          "output_type": "execute_result",
          "data": {
            "text/plain": [
              "      size_bytes  price  rating_count_tot  rating_count_ver  user_rating_ver  \\\n",
              "122    16.222656   0.99             53821               165              4.0   \n",
              "479    71.356445   0.00            130823             29363              5.0   \n",
              "4439  220.705078   0.99                 0                 0              0.0   \n",
              "2575  103.663086   0.00              8227               178              4.5   \n",
              "293    95.414062   1.99              2417              1366              4.5   \n",
              "\n",
              "      sup_devices.num  Major  ipadSc_urls.num  lang.num  Education  \\\n",
              "122                43      1                1         1        0.0   \n",
              "479                37      5                4         2        0.0   \n",
              "4439               37      1                5         2        1.0   \n",
              "2575               24      1                5         1        0.0   \n",
              "293                38      6                2         1        0.0   \n",
              "\n",
              "      Entertainment  Games  Others  Shopping  \n",
              "122             0.0    1.0     0.0       0.0  \n",
              "479             0.0    0.0     0.0       1.0  \n",
              "4439            0.0    0.0     0.0       0.0  \n",
              "2575            0.0    1.0     0.0       0.0  \n",
              "293             0.0    0.0     1.0       0.0  "
            ],
            "text/html": [
              "\n",
              "  <div id=\"df-33f3c4a1-9bd6-400d-93e6-4179e8753acb\">\n",
              "    <div class=\"colab-df-container\">\n",
              "      <div>\n",
              "<style scoped>\n",
              "    .dataframe tbody tr th:only-of-type {\n",
              "        vertical-align: middle;\n",
              "    }\n",
              "\n",
              "    .dataframe tbody tr th {\n",
              "        vertical-align: top;\n",
              "    }\n",
              "\n",
              "    .dataframe thead th {\n",
              "        text-align: right;\n",
              "    }\n",
              "</style>\n",
              "<table border=\"1\" class=\"dataframe\">\n",
              "  <thead>\n",
              "    <tr style=\"text-align: right;\">\n",
              "      <th></th>\n",
              "      <th>size_bytes</th>\n",
              "      <th>price</th>\n",
              "      <th>rating_count_tot</th>\n",
              "      <th>rating_count_ver</th>\n",
              "      <th>user_rating_ver</th>\n",
              "      <th>sup_devices.num</th>\n",
              "      <th>Major</th>\n",
              "      <th>ipadSc_urls.num</th>\n",
              "      <th>lang.num</th>\n",
              "      <th>Education</th>\n",
              "      <th>Entertainment</th>\n",
              "      <th>Games</th>\n",
              "      <th>Others</th>\n",
              "      <th>Shopping</th>\n",
              "    </tr>\n",
              "  </thead>\n",
              "  <tbody>\n",
              "    <tr>\n",
              "      <th>122</th>\n",
              "      <td>16.222656</td>\n",
              "      <td>0.99</td>\n",
              "      <td>53821</td>\n",
              "      <td>165</td>\n",
              "      <td>4.0</td>\n",
              "      <td>43</td>\n",
              "      <td>1</td>\n",
              "      <td>1</td>\n",
              "      <td>1</td>\n",
              "      <td>0.0</td>\n",
              "      <td>0.0</td>\n",
              "      <td>1.0</td>\n",
              "      <td>0.0</td>\n",
              "      <td>0.0</td>\n",
              "    </tr>\n",
              "    <tr>\n",
              "      <th>479</th>\n",
              "      <td>71.356445</td>\n",
              "      <td>0.00</td>\n",
              "      <td>130823</td>\n",
              "      <td>29363</td>\n",
              "      <td>5.0</td>\n",
              "      <td>37</td>\n",
              "      <td>5</td>\n",
              "      <td>4</td>\n",
              "      <td>2</td>\n",
              "      <td>0.0</td>\n",
              "      <td>0.0</td>\n",
              "      <td>0.0</td>\n",
              "      <td>0.0</td>\n",
              "      <td>1.0</td>\n",
              "    </tr>\n",
              "    <tr>\n",
              "      <th>4439</th>\n",
              "      <td>220.705078</td>\n",
              "      <td>0.99</td>\n",
              "      <td>0</td>\n",
              "      <td>0</td>\n",
              "      <td>0.0</td>\n",
              "      <td>37</td>\n",
              "      <td>1</td>\n",
              "      <td>5</td>\n",
              "      <td>2</td>\n",
              "      <td>1.0</td>\n",
              "      <td>0.0</td>\n",
              "      <td>0.0</td>\n",
              "      <td>0.0</td>\n",
              "      <td>0.0</td>\n",
              "    </tr>\n",
              "    <tr>\n",
              "      <th>2575</th>\n",
              "      <td>103.663086</td>\n",
              "      <td>0.00</td>\n",
              "      <td>8227</td>\n",
              "      <td>178</td>\n",
              "      <td>4.5</td>\n",
              "      <td>24</td>\n",
              "      <td>1</td>\n",
              "      <td>5</td>\n",
              "      <td>1</td>\n",
              "      <td>0.0</td>\n",
              "      <td>0.0</td>\n",
              "      <td>1.0</td>\n",
              "      <td>0.0</td>\n",
              "      <td>0.0</td>\n",
              "    </tr>\n",
              "    <tr>\n",
              "      <th>293</th>\n",
              "      <td>95.414062</td>\n",
              "      <td>1.99</td>\n",
              "      <td>2417</td>\n",
              "      <td>1366</td>\n",
              "      <td>4.5</td>\n",
              "      <td>38</td>\n",
              "      <td>6</td>\n",
              "      <td>2</td>\n",
              "      <td>1</td>\n",
              "      <td>0.0</td>\n",
              "      <td>0.0</td>\n",
              "      <td>0.0</td>\n",
              "      <td>1.0</td>\n",
              "      <td>0.0</td>\n",
              "    </tr>\n",
              "  </tbody>\n",
              "</table>\n",
              "</div>\n",
              "      <button class=\"colab-df-convert\" onclick=\"convertToInteractive('df-33f3c4a1-9bd6-400d-93e6-4179e8753acb')\"\n",
              "              title=\"Convert this dataframe to an interactive table.\"\n",
              "              style=\"display:none;\">\n",
              "        \n",
              "  <svg xmlns=\"http://www.w3.org/2000/svg\" height=\"24px\"viewBox=\"0 0 24 24\"\n",
              "       width=\"24px\">\n",
              "    <path d=\"M0 0h24v24H0V0z\" fill=\"none\"/>\n",
              "    <path d=\"M18.56 5.44l.94 2.06.94-2.06 2.06-.94-2.06-.94-.94-2.06-.94 2.06-2.06.94zm-11 1L8.5 8.5l.94-2.06 2.06-.94-2.06-.94L8.5 2.5l-.94 2.06-2.06.94zm10 10l.94 2.06.94-2.06 2.06-.94-2.06-.94-.94-2.06-.94 2.06-2.06.94z\"/><path d=\"M17.41 7.96l-1.37-1.37c-.4-.4-.92-.59-1.43-.59-.52 0-1.04.2-1.43.59L10.3 9.45l-7.72 7.72c-.78.78-.78 2.05 0 2.83L4 21.41c.39.39.9.59 1.41.59.51 0 1.02-.2 1.41-.59l7.78-7.78 2.81-2.81c.8-.78.8-2.07 0-2.86zM5.41 20L4 18.59l7.72-7.72 1.47 1.35L5.41 20z\"/>\n",
              "  </svg>\n",
              "      </button>\n",
              "      \n",
              "  <style>\n",
              "    .colab-df-container {\n",
              "      display:flex;\n",
              "      flex-wrap:wrap;\n",
              "      gap: 12px;\n",
              "    }\n",
              "\n",
              "    .colab-df-convert {\n",
              "      background-color: #E8F0FE;\n",
              "      border: none;\n",
              "      border-radius: 50%;\n",
              "      cursor: pointer;\n",
              "      display: none;\n",
              "      fill: #1967D2;\n",
              "      height: 32px;\n",
              "      padding: 0 0 0 0;\n",
              "      width: 32px;\n",
              "    }\n",
              "\n",
              "    .colab-df-convert:hover {\n",
              "      background-color: #E2EBFA;\n",
              "      box-shadow: 0px 1px 2px rgba(60, 64, 67, 0.3), 0px 1px 3px 1px rgba(60, 64, 67, 0.15);\n",
              "      fill: #174EA6;\n",
              "    }\n",
              "\n",
              "    [theme=dark] .colab-df-convert {\n",
              "      background-color: #3B4455;\n",
              "      fill: #D2E3FC;\n",
              "    }\n",
              "\n",
              "    [theme=dark] .colab-df-convert:hover {\n",
              "      background-color: #434B5C;\n",
              "      box-shadow: 0px 1px 3px 1px rgba(0, 0, 0, 0.15);\n",
              "      filter: drop-shadow(0px 1px 2px rgba(0, 0, 0, 0.3));\n",
              "      fill: #FFFFFF;\n",
              "    }\n",
              "  </style>\n",
              "\n",
              "      <script>\n",
              "        const buttonEl =\n",
              "          document.querySelector('#df-33f3c4a1-9bd6-400d-93e6-4179e8753acb button.colab-df-convert');\n",
              "        buttonEl.style.display =\n",
              "          google.colab.kernel.accessAllowed ? 'block' : 'none';\n",
              "\n",
              "        async function convertToInteractive(key) {\n",
              "          const element = document.querySelector('#df-33f3c4a1-9bd6-400d-93e6-4179e8753acb');\n",
              "          const dataTable =\n",
              "            await google.colab.kernel.invokeFunction('convertToInteractive',\n",
              "                                                     [key], {});\n",
              "          if (!dataTable) return;\n",
              "\n",
              "          const docLinkHtml = 'Like what you see? Visit the ' +\n",
              "            '<a target=\"_blank\" href=https://colab.research.google.com/notebooks/data_table.ipynb>data table notebook</a>'\n",
              "            + ' to learn more about interactive tables.';\n",
              "          element.innerHTML = '';\n",
              "          dataTable['output_type'] = 'display_data';\n",
              "          await google.colab.output.renderOutput(dataTable, element);\n",
              "          const docLink = document.createElement('div');\n",
              "          docLink.innerHTML = docLinkHtml;\n",
              "          element.appendChild(docLink);\n",
              "        }\n",
              "      </script>\n",
              "    </div>\n",
              "  </div>\n",
              "  "
            ]
          },
          "metadata": {},
          "execution_count": 32
        }
      ]
    },
    {
      "cell_type": "code",
      "execution_count": null,
      "id": "89aab306",
      "metadata": {
        "id": "89aab306",
        "outputId": "79e5e14d-1ec0-4293-e203-9f224924195b",
        "colab": {
          "base_uri": "https://localhost:8080/"
        }
      },
      "outputs": [
        {
          "output_type": "stream",
          "name": "stdout",
          "text": [
            "MAE: 0.10454837589022056\n",
            "MSE: 0.02780235799895779\n",
            "RMSE: 0.16674039102436394\n"
          ]
        }
      ],
      "source": [
        "#Training set prediction\n",
        "y_pred = regressor.predict(X)\n",
        "print('MAE:',mean_absolute_error(y_train,y_pred))\n",
        "print('MSE:', mean_squared_error(y_train,y_pred))\n",
        "print('RMSE:',np.sqrt(mean_squared_error(y_train,y_pred)))"
      ]
    },
    {
      "cell_type": "code",
      "execution_count": null,
      "id": "b6e013da",
      "metadata": {
        "id": "b6e013da",
        "outputId": "39c7a976-d1e5-47c6-c470-e37a18bb5f8c",
        "colab": {
          "base_uri": "https://localhost:8080/"
        }
      },
      "outputs": [
        {
          "output_type": "stream",
          "name": "stdout",
          "text": [
            "MAE: 0.27827430555555555\n",
            "MSE: 0.19675359375\n",
            "RMSE: 0.44356915328954066\n"
          ]
        }
      ],
      "source": [
        "#Test set prediction\n",
        "y_pred_test = regressor.predict(x_test)\n",
        "print('MAE:', mean_absolute_error(y_test,y_pred_test))\n",
        "print('MSE:', mean_squared_error(y_test,y_pred_test))\n",
        "print('RMSE:',np.sqrt(mean_squared_error(y_test,y_pred_test)))\n"
      ]
    },
    {
      "cell_type": "code",
      "execution_count": null,
      "id": "2162f499",
      "metadata": {
        "scrolled": true,
        "id": "2162f499",
        "outputId": "c0632b42-7be8-491b-8594-fbb3ccdaf0c5",
        "colab": {
          "base_uri": "https://localhost:8080/",
          "height": 898
        }
      },
      "outputs": [
        {
          "output_type": "stream",
          "name": "stdout",
          "text": [
            "Best: [0.86445652 0.86437044 0.86439297 0.91233362 0.91285334 0.91239437\n",
            " 0.91131754 0.91263868 0.91264601], using {'max_depth': 8, 'n_estimators': 128}\n"
          ]
        },
        {
          "output_type": "execute_result",
          "data": {
            "text/plain": [
              "   mean_fit_time  std_fit_time  mean_score_time  std_score_time  \\\n",
              "0       0.250575      0.004226         0.008515        0.000314   \n",
              "1       0.492426      0.006603         0.017209        0.004125   \n",
              "2       0.976197      0.008409         0.026221        0.002486   \n",
              "3       0.657203      0.005155         0.012879        0.000550   \n",
              "4       1.309372      0.007033         0.023067        0.001821   \n",
              "5       2.630680      0.018577         0.042272        0.000653   \n",
              "6       1.086190      0.006316         0.019812        0.000215   \n",
              "7       2.159144      0.008128         0.037331        0.000948   \n",
              "8       4.465427      0.313340         0.072577        0.002025   \n",
              "\n",
              "  param_max_depth param_n_estimators                                  params  \\\n",
              "0               2                 64    {'max_depth': 2, 'n_estimators': 64}   \n",
              "1               2                128   {'max_depth': 2, 'n_estimators': 128}   \n",
              "2               2                256   {'max_depth': 2, 'n_estimators': 256}   \n",
              "3               8                 64    {'max_depth': 8, 'n_estimators': 64}   \n",
              "4               8                128   {'max_depth': 8, 'n_estimators': 128}   \n",
              "5               8                256   {'max_depth': 8, 'n_estimators': 256}   \n",
              "6              16                 64   {'max_depth': 16, 'n_estimators': 64}   \n",
              "7              16                128  {'max_depth': 16, 'n_estimators': 128}   \n",
              "8              16                256  {'max_depth': 16, 'n_estimators': 256}   \n",
              "\n",
              "   split0_test_score  split1_test_score  split2_test_score  split3_test_score  \\\n",
              "0           0.865122           0.872194           0.855391           0.869538   \n",
              "1           0.865075           0.872145           0.855299           0.869335   \n",
              "2           0.865108           0.872182           0.855311           0.869361   \n",
              "3           0.918954           0.916872           0.903562           0.910645   \n",
              "4           0.919851           0.918810           0.904575           0.910821   \n",
              "5           0.918844           0.917785           0.904378           0.910329   \n",
              "6           0.920454           0.916699           0.900944           0.908937   \n",
              "7           0.920916           0.917499           0.903508           0.910403   \n",
              "8           0.920707           0.917890           0.902917           0.910341   \n",
              "\n",
              "   split4_test_score  mean_test_score  std_test_score  rank_test_score  \n",
              "0           0.860038         0.864457        0.006129                7  \n",
              "1           0.859998         0.864370        0.006116                9  \n",
              "2           0.860003         0.864393        0.006126                8  \n",
              "3           0.911636         0.912334        0.005380                5  \n",
              "4           0.910210         0.912853        0.005729                1  \n",
              "5           0.910636         0.912394        0.005335                4  \n",
              "6           0.909553         0.911318        0.006765                6  \n",
              "7           0.910867         0.912639        0.006060                3  \n",
              "8           0.911375         0.912646        0.006230                2  "
            ],
            "text/html": [
              "\n",
              "  <div id=\"df-97a0afec-ea2d-4726-931c-46e882b251ad\">\n",
              "    <div class=\"colab-df-container\">\n",
              "      <div>\n",
              "<style scoped>\n",
              "    .dataframe tbody tr th:only-of-type {\n",
              "        vertical-align: middle;\n",
              "    }\n",
              "\n",
              "    .dataframe tbody tr th {\n",
              "        vertical-align: top;\n",
              "    }\n",
              "\n",
              "    .dataframe thead th {\n",
              "        text-align: right;\n",
              "    }\n",
              "</style>\n",
              "<table border=\"1\" class=\"dataframe\">\n",
              "  <thead>\n",
              "    <tr style=\"text-align: right;\">\n",
              "      <th></th>\n",
              "      <th>mean_fit_time</th>\n",
              "      <th>std_fit_time</th>\n",
              "      <th>mean_score_time</th>\n",
              "      <th>std_score_time</th>\n",
              "      <th>param_max_depth</th>\n",
              "      <th>param_n_estimators</th>\n",
              "      <th>params</th>\n",
              "      <th>split0_test_score</th>\n",
              "      <th>split1_test_score</th>\n",
              "      <th>split2_test_score</th>\n",
              "      <th>split3_test_score</th>\n",
              "      <th>split4_test_score</th>\n",
              "      <th>mean_test_score</th>\n",
              "      <th>std_test_score</th>\n",
              "      <th>rank_test_score</th>\n",
              "    </tr>\n",
              "  </thead>\n",
              "  <tbody>\n",
              "    <tr>\n",
              "      <th>0</th>\n",
              "      <td>0.250575</td>\n",
              "      <td>0.004226</td>\n",
              "      <td>0.008515</td>\n",
              "      <td>0.000314</td>\n",
              "      <td>2</td>\n",
              "      <td>64</td>\n",
              "      <td>{'max_depth': 2, 'n_estimators': 64}</td>\n",
              "      <td>0.865122</td>\n",
              "      <td>0.872194</td>\n",
              "      <td>0.855391</td>\n",
              "      <td>0.869538</td>\n",
              "      <td>0.860038</td>\n",
              "      <td>0.864457</td>\n",
              "      <td>0.006129</td>\n",
              "      <td>7</td>\n",
              "    </tr>\n",
              "    <tr>\n",
              "      <th>1</th>\n",
              "      <td>0.492426</td>\n",
              "      <td>0.006603</td>\n",
              "      <td>0.017209</td>\n",
              "      <td>0.004125</td>\n",
              "      <td>2</td>\n",
              "      <td>128</td>\n",
              "      <td>{'max_depth': 2, 'n_estimators': 128}</td>\n",
              "      <td>0.865075</td>\n",
              "      <td>0.872145</td>\n",
              "      <td>0.855299</td>\n",
              "      <td>0.869335</td>\n",
              "      <td>0.859998</td>\n",
              "      <td>0.864370</td>\n",
              "      <td>0.006116</td>\n",
              "      <td>9</td>\n",
              "    </tr>\n",
              "    <tr>\n",
              "      <th>2</th>\n",
              "      <td>0.976197</td>\n",
              "      <td>0.008409</td>\n",
              "      <td>0.026221</td>\n",
              "      <td>0.002486</td>\n",
              "      <td>2</td>\n",
              "      <td>256</td>\n",
              "      <td>{'max_depth': 2, 'n_estimators': 256}</td>\n",
              "      <td>0.865108</td>\n",
              "      <td>0.872182</td>\n",
              "      <td>0.855311</td>\n",
              "      <td>0.869361</td>\n",
              "      <td>0.860003</td>\n",
              "      <td>0.864393</td>\n",
              "      <td>0.006126</td>\n",
              "      <td>8</td>\n",
              "    </tr>\n",
              "    <tr>\n",
              "      <th>3</th>\n",
              "      <td>0.657203</td>\n",
              "      <td>0.005155</td>\n",
              "      <td>0.012879</td>\n",
              "      <td>0.000550</td>\n",
              "      <td>8</td>\n",
              "      <td>64</td>\n",
              "      <td>{'max_depth': 8, 'n_estimators': 64}</td>\n",
              "      <td>0.918954</td>\n",
              "      <td>0.916872</td>\n",
              "      <td>0.903562</td>\n",
              "      <td>0.910645</td>\n",
              "      <td>0.911636</td>\n",
              "      <td>0.912334</td>\n",
              "      <td>0.005380</td>\n",
              "      <td>5</td>\n",
              "    </tr>\n",
              "    <tr>\n",
              "      <th>4</th>\n",
              "      <td>1.309372</td>\n",
              "      <td>0.007033</td>\n",
              "      <td>0.023067</td>\n",
              "      <td>0.001821</td>\n",
              "      <td>8</td>\n",
              "      <td>128</td>\n",
              "      <td>{'max_depth': 8, 'n_estimators': 128}</td>\n",
              "      <td>0.919851</td>\n",
              "      <td>0.918810</td>\n",
              "      <td>0.904575</td>\n",
              "      <td>0.910821</td>\n",
              "      <td>0.910210</td>\n",
              "      <td>0.912853</td>\n",
              "      <td>0.005729</td>\n",
              "      <td>1</td>\n",
              "    </tr>\n",
              "    <tr>\n",
              "      <th>5</th>\n",
              "      <td>2.630680</td>\n",
              "      <td>0.018577</td>\n",
              "      <td>0.042272</td>\n",
              "      <td>0.000653</td>\n",
              "      <td>8</td>\n",
              "      <td>256</td>\n",
              "      <td>{'max_depth': 8, 'n_estimators': 256}</td>\n",
              "      <td>0.918844</td>\n",
              "      <td>0.917785</td>\n",
              "      <td>0.904378</td>\n",
              "      <td>0.910329</td>\n",
              "      <td>0.910636</td>\n",
              "      <td>0.912394</td>\n",
              "      <td>0.005335</td>\n",
              "      <td>4</td>\n",
              "    </tr>\n",
              "    <tr>\n",
              "      <th>6</th>\n",
              "      <td>1.086190</td>\n",
              "      <td>0.006316</td>\n",
              "      <td>0.019812</td>\n",
              "      <td>0.000215</td>\n",
              "      <td>16</td>\n",
              "      <td>64</td>\n",
              "      <td>{'max_depth': 16, 'n_estimators': 64}</td>\n",
              "      <td>0.920454</td>\n",
              "      <td>0.916699</td>\n",
              "      <td>0.900944</td>\n",
              "      <td>0.908937</td>\n",
              "      <td>0.909553</td>\n",
              "      <td>0.911318</td>\n",
              "      <td>0.006765</td>\n",
              "      <td>6</td>\n",
              "    </tr>\n",
              "    <tr>\n",
              "      <th>7</th>\n",
              "      <td>2.159144</td>\n",
              "      <td>0.008128</td>\n",
              "      <td>0.037331</td>\n",
              "      <td>0.000948</td>\n",
              "      <td>16</td>\n",
              "      <td>128</td>\n",
              "      <td>{'max_depth': 16, 'n_estimators': 128}</td>\n",
              "      <td>0.920916</td>\n",
              "      <td>0.917499</td>\n",
              "      <td>0.903508</td>\n",
              "      <td>0.910403</td>\n",
              "      <td>0.910867</td>\n",
              "      <td>0.912639</td>\n",
              "      <td>0.006060</td>\n",
              "      <td>3</td>\n",
              "    </tr>\n",
              "    <tr>\n",
              "      <th>8</th>\n",
              "      <td>4.465427</td>\n",
              "      <td>0.313340</td>\n",
              "      <td>0.072577</td>\n",
              "      <td>0.002025</td>\n",
              "      <td>16</td>\n",
              "      <td>256</td>\n",
              "      <td>{'max_depth': 16, 'n_estimators': 256}</td>\n",
              "      <td>0.920707</td>\n",
              "      <td>0.917890</td>\n",
              "      <td>0.902917</td>\n",
              "      <td>0.910341</td>\n",
              "      <td>0.911375</td>\n",
              "      <td>0.912646</td>\n",
              "      <td>0.006230</td>\n",
              "      <td>2</td>\n",
              "    </tr>\n",
              "  </tbody>\n",
              "</table>\n",
              "</div>\n",
              "      <button class=\"colab-df-convert\" onclick=\"convertToInteractive('df-97a0afec-ea2d-4726-931c-46e882b251ad')\"\n",
              "              title=\"Convert this dataframe to an interactive table.\"\n",
              "              style=\"display:none;\">\n",
              "        \n",
              "  <svg xmlns=\"http://www.w3.org/2000/svg\" height=\"24px\"viewBox=\"0 0 24 24\"\n",
              "       width=\"24px\">\n",
              "    <path d=\"M0 0h24v24H0V0z\" fill=\"none\"/>\n",
              "    <path d=\"M18.56 5.44l.94 2.06.94-2.06 2.06-.94-2.06-.94-.94-2.06-.94 2.06-2.06.94zm-11 1L8.5 8.5l.94-2.06 2.06-.94-2.06-.94L8.5 2.5l-.94 2.06-2.06.94zm10 10l.94 2.06.94-2.06 2.06-.94-2.06-.94-.94-2.06-.94 2.06-2.06.94z\"/><path d=\"M17.41 7.96l-1.37-1.37c-.4-.4-.92-.59-1.43-.59-.52 0-1.04.2-1.43.59L10.3 9.45l-7.72 7.72c-.78.78-.78 2.05 0 2.83L4 21.41c.39.39.9.59 1.41.59.51 0 1.02-.2 1.41-.59l7.78-7.78 2.81-2.81c.8-.78.8-2.07 0-2.86zM5.41 20L4 18.59l7.72-7.72 1.47 1.35L5.41 20z\"/>\n",
              "  </svg>\n",
              "      </button>\n",
              "      \n",
              "  <style>\n",
              "    .colab-df-container {\n",
              "      display:flex;\n",
              "      flex-wrap:wrap;\n",
              "      gap: 12px;\n",
              "    }\n",
              "\n",
              "    .colab-df-convert {\n",
              "      background-color: #E8F0FE;\n",
              "      border: none;\n",
              "      border-radius: 50%;\n",
              "      cursor: pointer;\n",
              "      display: none;\n",
              "      fill: #1967D2;\n",
              "      height: 32px;\n",
              "      padding: 0 0 0 0;\n",
              "      width: 32px;\n",
              "    }\n",
              "\n",
              "    .colab-df-convert:hover {\n",
              "      background-color: #E2EBFA;\n",
              "      box-shadow: 0px 1px 2px rgba(60, 64, 67, 0.3), 0px 1px 3px 1px rgba(60, 64, 67, 0.15);\n",
              "      fill: #174EA6;\n",
              "    }\n",
              "\n",
              "    [theme=dark] .colab-df-convert {\n",
              "      background-color: #3B4455;\n",
              "      fill: #D2E3FC;\n",
              "    }\n",
              "\n",
              "    [theme=dark] .colab-df-convert:hover {\n",
              "      background-color: #434B5C;\n",
              "      box-shadow: 0px 1px 3px 1px rgba(0, 0, 0, 0.15);\n",
              "      filter: drop-shadow(0px 1px 2px rgba(0, 0, 0, 0.3));\n",
              "      fill: #FFFFFF;\n",
              "    }\n",
              "  </style>\n",
              "\n",
              "      <script>\n",
              "        const buttonEl =\n",
              "          document.querySelector('#df-97a0afec-ea2d-4726-931c-46e882b251ad button.colab-df-convert');\n",
              "        buttonEl.style.display =\n",
              "          google.colab.kernel.accessAllowed ? 'block' : 'none';\n",
              "\n",
              "        async function convertToInteractive(key) {\n",
              "          const element = document.querySelector('#df-97a0afec-ea2d-4726-931c-46e882b251ad');\n",
              "          const dataTable =\n",
              "            await google.colab.kernel.invokeFunction('convertToInteractive',\n",
              "                                                     [key], {});\n",
              "          if (!dataTable) return;\n",
              "\n",
              "          const docLinkHtml = 'Like what you see? Visit the ' +\n",
              "            '<a target=\"_blank\" href=https://colab.research.google.com/notebooks/data_table.ipynb>data table notebook</a>'\n",
              "            + ' to learn more about interactive tables.';\n",
              "          element.innerHTML = '';\n",
              "          dataTable['output_type'] = 'display_data';\n",
              "          await google.colab.output.renderOutput(dataTable, element);\n",
              "          const docLink = document.createElement('div');\n",
              "          docLink.innerHTML = docLinkHtml;\n",
              "          element.appendChild(docLink);\n",
              "        }\n",
              "      </script>\n",
              "    </div>\n",
              "  </div>\n",
              "  "
            ]
          },
          "metadata": {},
          "execution_count": 35
        }
      ],
      "source": [
        "# Parameter tuning in Random Forest\n",
        "\n",
        "max_depth=[2, 8, 16]\n",
        "n_estimators = [64, 128, 256]\n",
        "param_grid = dict(max_depth=max_depth, n_estimators=n_estimators)\n",
        "\n",
        "# Build the grid search\n",
        "dfrst = RandomForestRegressor(n_estimators=n_estimators, max_depth=max_depth)\n",
        "grid = GridSearchCV(estimator=dfrst, param_grid=param_grid, cv = 5)\n",
        "grid_results = grid.fit(X,Y)\n",
        "\n",
        "# Summarize the results in a readable format\n",
        "print(\"Best: {0}, using {1}\".format(grid_results.cv_results_['mean_test_score'], grid_results.best_params_))\n",
        "results_df = pd.DataFrame(grid_results.cv_results_)\n",
        "results_df"
      ]
    },
    {
      "cell_type": "code",
      "execution_count": null,
      "id": "780f6871",
      "metadata": {
        "id": "780f6871"
      },
      "outputs": [],
      "source": [
        "regressor = RandomForestRegressor(n_estimators = 128, random_state = 0,max_depth = 8)"
      ]
    },
    {
      "cell_type": "code",
      "execution_count": null,
      "id": "cf08f1b1",
      "metadata": {
        "id": "cf08f1b1",
        "outputId": "7c27b460-984f-42aa-f5f8-c3860e4e736b",
        "colab": {
          "base_uri": "https://localhost:8080/"
        }
      },
      "outputs": [
        {
          "output_type": "stream",
          "name": "stdout",
          "text": [
            "MAE: 0.2571740960118481\n",
            "MSE: 0.1534507736499743\n",
            "RMSE: 0.39172793320106025\n"
          ]
        }
      ],
      "source": [
        "regressor.fit(X, Y)\n",
        "#Training set prediction\n",
        "y_pred = regressor.predict(X)\n",
        "print('MAE:', mean_absolute_error(y_train,y_pred))\n",
        "print('MSE:', mean_squared_error(y_train,y_pred))\n",
        "print('RMSE:',np.sqrt(mean_squared_error(y_train,y_pred)))"
      ]
    },
    {
      "cell_type": "code",
      "source": [
        "# MAE: 0.2571740960118481\n",
        "# MSE: 0.1534507736499743\n",
        "# RMSE: 0.39172793320106025\n",
        "\n",
        "# MAE: 0.28177631866633657\n",
        "# MSE: 0.19490990568313105\n",
        "# RMSE: 0.44148601980485297"
      ],
      "metadata": {
        "id": "u1B9ikFYhKsa"
      },
      "id": "u1B9ikFYhKsa",
      "execution_count": null,
      "outputs": []
    },
    {
      "cell_type": "code",
      "execution_count": null,
      "id": "fdd7e3e4",
      "metadata": {
        "id": "fdd7e3e4",
        "outputId": "98ffe85b-2e31-4655-cda7-0282b5b0802f",
        "colab": {
          "base_uri": "https://localhost:8080/"
        }
      },
      "outputs": [
        {
          "output_type": "stream",
          "name": "stdout",
          "text": [
            "MAE: 0.28177631866633657\n",
            "MSE: 0.19490990568313105\n",
            "RMSE: 0.44148601980485297\n"
          ]
        }
      ],
      "source": [
        "#Test set prediction\n",
        "y_pred_test = regressor.predict(x_test)\n",
        "print('MAE:', mean_absolute_error(y_test,y_pred_test))\n",
        "print('MSE:', mean_squared_error(y_test,y_pred_test))\n",
        "print('RMSE:',np.sqrt(mean_squared_error(y_test,y_pred_test)))"
      ]
    },
    {
      "cell_type": "code",
      "source": [
        "sklearn.__version__"
      ],
      "metadata": {
        "colab": {
          "base_uri": "https://localhost:8080/",
          "height": 36
        },
        "id": "8ok2hz7ZhpYt",
        "outputId": "f6bbad68-ac20-4e50-cc21-bb63c925c7d9"
      },
      "id": "8ok2hz7ZhpYt",
      "execution_count": null,
      "outputs": [
        {
          "output_type": "execute_result",
          "data": {
            "text/plain": [
              "'0.24.2'"
            ],
            "application/vnd.google.colaboratory.intrinsic+json": {
              "type": "string"
            }
          },
          "metadata": {},
          "execution_count": 39
        }
      ]
    },
    {
      "cell_type": "code",
      "source": [
        "import pickle"
      ],
      "metadata": {
        "id": "EO4OMUIiJ57-"
      },
      "id": "EO4OMUIiJ57-",
      "execution_count": null,
      "outputs": []
    },
    {
      "cell_type": "code",
      "source": [
        "with open('rf_model2.pkl','wb') as files:\n",
        "  pickle.dump(regressor, files)"
      ],
      "metadata": {
        "id": "-o3Jiv6yJ5Qa"
      },
      "id": "-o3Jiv6yJ5Qa",
      "execution_count": null,
      "outputs": []
    },
    {
      "cell_type": "markdown",
      "source": [
        "###Mean absolute percentage error"
      ],
      "metadata": {
        "id": "APfJqgT3bXi_"
      },
      "id": "APfJqgT3bXi_"
    },
    {
      "cell_type": "code",
      "execution_count": null,
      "id": "91d89328",
      "metadata": {
        "id": "91d89328"
      },
      "outputs": [],
      "source": [
        "# Calculating Mean Absolute percentage error for random forest model\n",
        "df2 = pd.DataFrame()\n",
        "df2['values']=abs(y_pred_test-y_test)/y_test"
      ]
    },
    {
      "cell_type": "code",
      "execution_count": null,
      "id": "c36884a8",
      "metadata": {
        "id": "c36884a8"
      },
      "outputs": [],
      "source": [
        "df2=df2.dropna()"
      ]
    },
    {
      "cell_type": "code",
      "execution_count": null,
      "id": "e0bf9ac5",
      "metadata": {
        "id": "e0bf9ac5",
        "outputId": "6f90ff99-1bef-4273-95bb-cf023adfb223"
      },
      "outputs": [
        {
          "data": {
            "text/plain": [
              "9.808737064909273"
            ]
          },
          "execution_count": 787,
          "metadata": {},
          "output_type": "execute_result"
        }
      ],
      "source": [
        "mean(df2['values'])*100"
      ]
    },
    {
      "cell_type": "code",
      "execution_count": null,
      "id": "8822706b",
      "metadata": {
        "id": "8822706b"
      },
      "outputs": [],
      "source": [
        "# Calculating Mean Absolute percentage error for ridge regression model\n",
        "df3 = pd.DataFrame()\n",
        "df3['values']=abs(ridge_test_predictions-y_test)/y_test"
      ]
    },
    {
      "cell_type": "code",
      "execution_count": null,
      "id": "b0749418",
      "metadata": {
        "id": "b0749418",
        "outputId": "b8895323-8797-4ea0-d93f-7467e5e84e9c"
      },
      "outputs": [
        {
          "data": {
            "text/html": [
              "<div>\n",
              "<style scoped>\n",
              "    .dataframe tbody tr th:only-of-type {\n",
              "        vertical-align: middle;\n",
              "    }\n",
              "\n",
              "    .dataframe tbody tr th {\n",
              "        vertical-align: top;\n",
              "    }\n",
              "\n",
              "    .dataframe thead th {\n",
              "        text-align: right;\n",
              "    }\n",
              "</style>\n",
              "<table border=\"1\" class=\"dataframe\">\n",
              "  <thead>\n",
              "    <tr style=\"text-align: right;\">\n",
              "      <th></th>\n",
              "      <th>values</th>\n",
              "    </tr>\n",
              "  </thead>\n",
              "  <tbody>\n",
              "    <tr>\n",
              "      <th>3592</th>\n",
              "      <td>0.097577</td>\n",
              "    </tr>\n",
              "    <tr>\n",
              "      <th>2178</th>\n",
              "      <td>0.093436</td>\n",
              "    </tr>\n",
              "    <tr>\n",
              "      <th>1760</th>\n",
              "      <td>0.010378</td>\n",
              "    </tr>\n",
              "    <tr>\n",
              "      <th>5655</th>\n",
              "      <td>0.978317</td>\n",
              "    </tr>\n",
              "    <tr>\n",
              "      <th>5944</th>\n",
              "      <td>0.516883</td>\n",
              "    </tr>\n",
              "    <tr>\n",
              "      <th>...</th>\n",
              "      <td>...</td>\n",
              "    </tr>\n",
              "    <tr>\n",
              "      <th>911</th>\n",
              "      <td>0.684915</td>\n",
              "    </tr>\n",
              "    <tr>\n",
              "      <th>4343</th>\n",
              "      <td>0.060379</td>\n",
              "    </tr>\n",
              "    <tr>\n",
              "      <th>3332</th>\n",
              "      <td>0.638806</td>\n",
              "    </tr>\n",
              "    <tr>\n",
              "      <th>6343</th>\n",
              "      <td>0.041231</td>\n",
              "    </tr>\n",
              "    <tr>\n",
              "      <th>1423</th>\n",
              "      <td>0.342322</td>\n",
              "    </tr>\n",
              "  </tbody>\n",
              "</table>\n",
              "<p>1251 rows × 1 columns</p>\n",
              "</div>"
            ],
            "text/plain": [
              "        values\n",
              "3592  0.097577\n",
              "2178  0.093436\n",
              "1760  0.010378\n",
              "5655  0.978317\n",
              "5944  0.516883\n",
              "...        ...\n",
              "911   0.684915\n",
              "4343  0.060379\n",
              "3332  0.638806\n",
              "6343  0.041231\n",
              "1423  0.342322\n",
              "\n",
              "[1251 rows x 1 columns]"
            ]
          },
          "execution_count": 789,
          "metadata": {},
          "output_type": "execute_result"
        }
      ],
      "source": [
        "df3[df3.replace([np.inf,-np.inf],np.nan).notnull().all (axis=1)] "
      ]
    },
    {
      "cell_type": "code",
      "execution_count": null,
      "id": "4df5ed59",
      "metadata": {
        "id": "4df5ed59"
      },
      "outputs": [],
      "source": [
        "df3= df3[df3['values']!=Inf]"
      ]
    },
    {
      "cell_type": "code",
      "execution_count": null,
      "id": "27d5aa0a",
      "metadata": {
        "id": "27d5aa0a",
        "outputId": "02e51997-f247-4064-ecdb-a32954c6146d"
      },
      "outputs": [
        {
          "data": {
            "text/plain": [
              "15.33015872405822"
            ]
          },
          "execution_count": 791,
          "metadata": {},
          "output_type": "execute_result"
        }
      ],
      "source": [
        "mean(df3['values'])*100"
      ]
    },
    {
      "cell_type": "code",
      "execution_count": null,
      "id": "72188b09",
      "metadata": {
        "id": "72188b09"
      },
      "outputs": [],
      "source": [
        "# Calculating Mean Absolute percentage error for Lasso regression model\n",
        "df4 = pd.DataFrame()\n",
        "df4['values']=abs(lasso_test_predictions-y_test)/y_test"
      ]
    },
    {
      "cell_type": "code",
      "execution_count": null,
      "id": "9d0d58f5",
      "metadata": {
        "id": "9d0d58f5",
        "outputId": "c95e51ce-9db0-42cd-f8b0-6a8aeed980ae"
      },
      "outputs": [
        {
          "data": {
            "text/html": [
              "<div>\n",
              "<style scoped>\n",
              "    .dataframe tbody tr th:only-of-type {\n",
              "        vertical-align: middle;\n",
              "    }\n",
              "\n",
              "    .dataframe tbody tr th {\n",
              "        vertical-align: top;\n",
              "    }\n",
              "\n",
              "    .dataframe thead th {\n",
              "        text-align: right;\n",
              "    }\n",
              "</style>\n",
              "<table border=\"1\" class=\"dataframe\">\n",
              "  <thead>\n",
              "    <tr style=\"text-align: right;\">\n",
              "      <th></th>\n",
              "      <th>values</th>\n",
              "    </tr>\n",
              "  </thead>\n",
              "  <tbody>\n",
              "    <tr>\n",
              "      <th>3592</th>\n",
              "      <td>0.094357</td>\n",
              "    </tr>\n",
              "    <tr>\n",
              "      <th>2178</th>\n",
              "      <td>0.094275</td>\n",
              "    </tr>\n",
              "    <tr>\n",
              "      <th>1760</th>\n",
              "      <td>0.015124</td>\n",
              "    </tr>\n",
              "    <tr>\n",
              "      <th>5655</th>\n",
              "      <td>0.953138</td>\n",
              "    </tr>\n",
              "    <tr>\n",
              "      <th>5944</th>\n",
              "      <td>0.522432</td>\n",
              "    </tr>\n",
              "    <tr>\n",
              "      <th>...</th>\n",
              "      <td>...</td>\n",
              "    </tr>\n",
              "    <tr>\n",
              "      <th>911</th>\n",
              "      <td>0.677706</td>\n",
              "    </tr>\n",
              "    <tr>\n",
              "      <th>4343</th>\n",
              "      <td>0.055296</td>\n",
              "    </tr>\n",
              "    <tr>\n",
              "      <th>3332</th>\n",
              "      <td>0.648601</td>\n",
              "    </tr>\n",
              "    <tr>\n",
              "      <th>6343</th>\n",
              "      <td>0.025615</td>\n",
              "    </tr>\n",
              "    <tr>\n",
              "      <th>1423</th>\n",
              "      <td>0.341185</td>\n",
              "    </tr>\n",
              "  </tbody>\n",
              "</table>\n",
              "<p>1251 rows × 1 columns</p>\n",
              "</div>"
            ],
            "text/plain": [
              "        values\n",
              "3592  0.094357\n",
              "2178  0.094275\n",
              "1760  0.015124\n",
              "5655  0.953138\n",
              "5944  0.522432\n",
              "...        ...\n",
              "911   0.677706\n",
              "4343  0.055296\n",
              "3332  0.648601\n",
              "6343  0.025615\n",
              "1423  0.341185\n",
              "\n",
              "[1251 rows x 1 columns]"
            ]
          },
          "execution_count": 793,
          "metadata": {},
          "output_type": "execute_result"
        }
      ],
      "source": [
        "df4[df4.replace([np.inf,-np.inf],np.nan).notnull().all (axis=1)] "
      ]
    },
    {
      "cell_type": "code",
      "execution_count": null,
      "id": "fe0ad788",
      "metadata": {
        "id": "fe0ad788"
      },
      "outputs": [],
      "source": [
        "df4= df4[df4['values']!=Inf]"
      ]
    },
    {
      "cell_type": "code",
      "execution_count": null,
      "id": "1cbbecfa",
      "metadata": {
        "id": "1cbbecfa",
        "outputId": "50a25988-ce5d-44c9-81c3-2e1775cc07f9"
      },
      "outputs": [
        {
          "data": {
            "text/plain": [
              "15.310069141171764"
            ]
          },
          "execution_count": 795,
          "metadata": {},
          "output_type": "execute_result"
        }
      ],
      "source": [
        "mean(df4['values'])*100"
      ]
    },
    {
      "cell_type": "code",
      "execution_count": null,
      "id": "17106c76",
      "metadata": {
        "id": "17106c76"
      },
      "outputs": [],
      "source": [
        "# linear regression\n",
        "df3 = pd.DataFrame()\n",
        "df3['values']=abs(test_pred-y_test)/y_test"
      ]
    },
    {
      "cell_type": "code",
      "execution_count": null,
      "id": "d9f9a3c3",
      "metadata": {
        "id": "d9f9a3c3",
        "outputId": "aeed702d-8363-415e-b98e-d07ab5841297"
      },
      "outputs": [
        {
          "data": {
            "text/html": [
              "<div>\n",
              "<style scoped>\n",
              "    .dataframe tbody tr th:only-of-type {\n",
              "        vertical-align: middle;\n",
              "    }\n",
              "\n",
              "    .dataframe tbody tr th {\n",
              "        vertical-align: top;\n",
              "    }\n",
              "\n",
              "    .dataframe thead th {\n",
              "        text-align: right;\n",
              "    }\n",
              "</style>\n",
              "<table border=\"1\" class=\"dataframe\">\n",
              "  <thead>\n",
              "    <tr style=\"text-align: right;\">\n",
              "      <th></th>\n",
              "      <th>values</th>\n",
              "    </tr>\n",
              "  </thead>\n",
              "  <tbody>\n",
              "    <tr>\n",
              "      <th>3592</th>\n",
              "      <td>0.097987</td>\n",
              "    </tr>\n",
              "    <tr>\n",
              "      <th>2178</th>\n",
              "      <td>0.092423</td>\n",
              "    </tr>\n",
              "    <tr>\n",
              "      <th>1760</th>\n",
              "      <td>0.008432</td>\n",
              "    </tr>\n",
              "    <tr>\n",
              "      <th>5655</th>\n",
              "      <td>0.980823</td>\n",
              "    </tr>\n",
              "    <tr>\n",
              "      <th>5944</th>\n",
              "      <td>0.515461</td>\n",
              "    </tr>\n",
              "    <tr>\n",
              "      <th>...</th>\n",
              "      <td>...</td>\n",
              "    </tr>\n",
              "    <tr>\n",
              "      <th>3332</th>\n",
              "      <td>0.637916</td>\n",
              "    </tr>\n",
              "    <tr>\n",
              "      <th>2029</th>\n",
              "      <td>inf</td>\n",
              "    </tr>\n",
              "    <tr>\n",
              "      <th>6343</th>\n",
              "      <td>0.042032</td>\n",
              "    </tr>\n",
              "    <tr>\n",
              "      <th>6652</th>\n",
              "      <td>inf</td>\n",
              "    </tr>\n",
              "    <tr>\n",
              "      <th>1423</th>\n",
              "      <td>0.342883</td>\n",
              "    </tr>\n",
              "  </tbody>\n",
              "</table>\n",
              "<p>1440 rows × 1 columns</p>\n",
              "</div>"
            ],
            "text/plain": [
              "        values\n",
              "3592  0.097987\n",
              "2178  0.092423\n",
              "1760  0.008432\n",
              "5655  0.980823\n",
              "5944  0.515461\n",
              "...        ...\n",
              "3332  0.637916\n",
              "2029       inf\n",
              "6343  0.042032\n",
              "6652       inf\n",
              "1423  0.342883\n",
              "\n",
              "[1440 rows x 1 columns]"
            ]
          },
          "execution_count": 865,
          "metadata": {},
          "output_type": "execute_result"
        }
      ],
      "source": [
        "df3"
      ]
    },
    {
      "cell_type": "code",
      "execution_count": null,
      "id": "5f08fed6",
      "metadata": {
        "id": "5f08fed6",
        "outputId": "db788eee-59fd-4b1e-bfa3-d247054edf3d"
      },
      "outputs": [
        {
          "data": {
            "text/html": [
              "<div>\n",
              "<style scoped>\n",
              "    .dataframe tbody tr th:only-of-type {\n",
              "        vertical-align: middle;\n",
              "    }\n",
              "\n",
              "    .dataframe tbody tr th {\n",
              "        vertical-align: top;\n",
              "    }\n",
              "\n",
              "    .dataframe thead th {\n",
              "        text-align: right;\n",
              "    }\n",
              "</style>\n",
              "<table border=\"1\" class=\"dataframe\">\n",
              "  <thead>\n",
              "    <tr style=\"text-align: right;\">\n",
              "      <th></th>\n",
              "      <th>values</th>\n",
              "    </tr>\n",
              "  </thead>\n",
              "  <tbody>\n",
              "    <tr>\n",
              "      <th>3592</th>\n",
              "      <td>0.094357</td>\n",
              "    </tr>\n",
              "    <tr>\n",
              "      <th>2178</th>\n",
              "      <td>0.094275</td>\n",
              "    </tr>\n",
              "    <tr>\n",
              "      <th>1760</th>\n",
              "      <td>0.015124</td>\n",
              "    </tr>\n",
              "    <tr>\n",
              "      <th>5655</th>\n",
              "      <td>0.953138</td>\n",
              "    </tr>\n",
              "    <tr>\n",
              "      <th>5944</th>\n",
              "      <td>0.522432</td>\n",
              "    </tr>\n",
              "    <tr>\n",
              "      <th>...</th>\n",
              "      <td>...</td>\n",
              "    </tr>\n",
              "    <tr>\n",
              "      <th>911</th>\n",
              "      <td>0.677706</td>\n",
              "    </tr>\n",
              "    <tr>\n",
              "      <th>4343</th>\n",
              "      <td>0.055296</td>\n",
              "    </tr>\n",
              "    <tr>\n",
              "      <th>3332</th>\n",
              "      <td>0.648601</td>\n",
              "    </tr>\n",
              "    <tr>\n",
              "      <th>6343</th>\n",
              "      <td>0.025615</td>\n",
              "    </tr>\n",
              "    <tr>\n",
              "      <th>1423</th>\n",
              "      <td>0.341185</td>\n",
              "    </tr>\n",
              "  </tbody>\n",
              "</table>\n",
              "<p>1251 rows × 1 columns</p>\n",
              "</div>"
            ],
            "text/plain": [
              "        values\n",
              "3592  0.094357\n",
              "2178  0.094275\n",
              "1760  0.015124\n",
              "5655  0.953138\n",
              "5944  0.522432\n",
              "...        ...\n",
              "911   0.677706\n",
              "4343  0.055296\n",
              "3332  0.648601\n",
              "6343  0.025615\n",
              "1423  0.341185\n",
              "\n",
              "[1251 rows x 1 columns]"
            ]
          },
          "execution_count": 866,
          "metadata": {},
          "output_type": "execute_result"
        }
      ],
      "source": [
        "df4[df4.replace([np.inf,-np.inf],np.nan).notnull().all (axis=1)] "
      ]
    },
    {
      "cell_type": "code",
      "execution_count": null,
      "id": "77068e59",
      "metadata": {
        "id": "77068e59"
      },
      "outputs": [],
      "source": [
        "df3= df3[df3['values']!=Inf]"
      ]
    },
    {
      "cell_type": "code",
      "execution_count": null,
      "id": "1a48554c",
      "metadata": {
        "id": "1a48554c",
        "outputId": "0075ed4c-9360-4ae9-b799-377a6678b4b4"
      },
      "outputs": [
        {
          "data": {
            "text/plain": [
              "15.359934137802691"
            ]
          },
          "execution_count": 873,
          "metadata": {},
          "output_type": "execute_result"
        }
      ],
      "source": [
        "mean(df3['values'])*100"
      ]
    },
    {
      "cell_type": "code",
      "execution_count": null,
      "id": "4dcdf72f",
      "metadata": {
        "id": "4dcdf72f"
      },
      "outputs": [],
      "source": [
        "# Calculating Mean Absolute percentage error for Decion tree regression model\n",
        "df4 = pd.DataFrame()\n",
        "df4['values']=abs(dt_test_predictions-y_test)/y_test"
      ]
    },
    {
      "cell_type": "code",
      "execution_count": null,
      "id": "54a0e960",
      "metadata": {
        "id": "54a0e960",
        "outputId": "547d684f-0a39-43a1-a83e-eba51843f1e9"
      },
      "outputs": [
        {
          "data": {
            "text/html": [
              "<div>\n",
              "<style scoped>\n",
              "    .dataframe tbody tr th:only-of-type {\n",
              "        vertical-align: middle;\n",
              "    }\n",
              "\n",
              "    .dataframe tbody tr th {\n",
              "        vertical-align: top;\n",
              "    }\n",
              "\n",
              "    .dataframe thead th {\n",
              "        text-align: right;\n",
              "    }\n",
              "</style>\n",
              "<table border=\"1\" class=\"dataframe\">\n",
              "  <thead>\n",
              "    <tr style=\"text-align: right;\">\n",
              "      <th></th>\n",
              "      <th>values</th>\n",
              "    </tr>\n",
              "  </thead>\n",
              "  <tbody>\n",
              "    <tr>\n",
              "      <th>3592</th>\n",
              "      <td>0.120000</td>\n",
              "    </tr>\n",
              "    <tr>\n",
              "      <th>2178</th>\n",
              "      <td>0.096780</td>\n",
              "    </tr>\n",
              "    <tr>\n",
              "      <th>1760</th>\n",
              "      <td>0.019689</td>\n",
              "    </tr>\n",
              "    <tr>\n",
              "      <th>5655</th>\n",
              "      <td>0.052632</td>\n",
              "    </tr>\n",
              "    <tr>\n",
              "      <th>5944</th>\n",
              "      <td>0.400538</td>\n",
              "    </tr>\n",
              "    <tr>\n",
              "      <th>...</th>\n",
              "      <td>...</td>\n",
              "    </tr>\n",
              "    <tr>\n",
              "      <th>911</th>\n",
              "      <td>0.050403</td>\n",
              "    </tr>\n",
              "    <tr>\n",
              "      <th>4343</th>\n",
              "      <td>0.102365</td>\n",
              "    </tr>\n",
              "    <tr>\n",
              "      <th>3332</th>\n",
              "      <td>0.025000</td>\n",
              "    </tr>\n",
              "    <tr>\n",
              "      <th>6343</th>\n",
              "      <td>0.133333</td>\n",
              "    </tr>\n",
              "    <tr>\n",
              "      <th>1423</th>\n",
              "      <td>0.325000</td>\n",
              "    </tr>\n",
              "  </tbody>\n",
              "</table>\n",
              "<p>1251 rows × 1 columns</p>\n",
              "</div>"
            ],
            "text/plain": [
              "        values\n",
              "3592  0.120000\n",
              "2178  0.096780\n",
              "1760  0.019689\n",
              "5655  0.052632\n",
              "5944  0.400538\n",
              "...        ...\n",
              "911   0.050403\n",
              "4343  0.102365\n",
              "3332  0.025000\n",
              "6343  0.133333\n",
              "1423  0.325000\n",
              "\n",
              "[1251 rows x 1 columns]"
            ]
          },
          "execution_count": 892,
          "metadata": {},
          "output_type": "execute_result"
        }
      ],
      "source": [
        "df4[df4.replace([np.inf,-np.inf],np.nan).notnull().all (axis=1)] "
      ]
    },
    {
      "cell_type": "code",
      "execution_count": null,
      "id": "1a64651d",
      "metadata": {
        "id": "1a64651d"
      },
      "outputs": [],
      "source": [
        "df4= df4[df4['values']!=Inf]"
      ]
    },
    {
      "cell_type": "code",
      "execution_count": null,
      "id": "24800045",
      "metadata": {
        "id": "24800045",
        "outputId": "ee11ae31-c520-43ad-953f-76bbda8517f7"
      },
      "outputs": [
        {
          "data": {
            "text/plain": [
              "10.502667414652413"
            ]
          },
          "execution_count": 894,
          "metadata": {},
          "output_type": "execute_result"
        }
      ],
      "source": [
        "mean(df4['values'])*100"
      ]
    }
  ],
  "metadata": {
    "kernelspec": {
      "display_name": "Python 3",
      "language": "python",
      "name": "python3"
    },
    "language_info": {
      "codemirror_mode": {
        "name": "ipython",
        "version": 3
      },
      "file_extension": ".py",
      "mimetype": "text/x-python",
      "name": "python",
      "nbconvert_exporter": "python",
      "pygments_lexer": "ipython3",
      "version": "3.8.8"
    },
    "colab": {
      "provenance": [],
      "toc_visible": true
    }
  },
  "nbformat": 4,
  "nbformat_minor": 5
}